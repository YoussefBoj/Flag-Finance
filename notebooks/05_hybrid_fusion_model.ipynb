{
 "cells": [
  {
   "cell_type": "markdown",
   "id": "717c1815",
   "metadata": {},
   "source": [
    "# Notebook 05: Hybrid Fusion Model - Combining GNN and LSTM Embeddings\n",
    "\n",
    "## Overview\n",
    "\n",
    "This notebook implements the **fusion layer** that combines:\n",
    "1. **GNN embeddings** from graph-based fraud detection (Notebook 03)\n",
    "2. **LSTM embeddings** from sequential transaction patterns (Notebook 04)\n",
    "\n",
    "### Architecture Pipeline\n",
    "\n",
    "```\n",
    "Transaction Graph        Transaction Sequences\n",
    "       ↓                          ↓\n",
    "   GNN Model                  LSTM Model\n",
    "       ↓                          ↓\n",
    "  GNN Embeddings           LSTM Embeddings\n",
    "       ↓                          ↓\n",
    "       └──────────┬───────────────┘\n",
    "                  ↓\n",
    "           Fusion Network\n",
    "           (Multi-layer MLP)\n",
    "                  ↓\n",
    "        Fraud/Legit Prediction\n",
    "```\n",
    "\n",
    "### Key Features\n",
    "\n",
    "- **Multi-modal fusion** with attention-based weighting\n",
    "- **Advanced architectures**: Deep fusion, gated fusion, cross-modal attention\n",
    "- **Comprehensive evaluation**: Comparison with individual models\n",
    "- **Kaggle-optimized**: Session management and checkpoint persistence"
   ]
  },
  {
   "cell_type": "code",
   "execution_count": 1,
   "id": "7fb25b97",
   "metadata": {},
   "outputs": [
    {
     "name": "stdout",
     "output_type": "stream",
     "text": [
      "🔍 Running on Kaggle: False\n",
      "🐍 Python version: 3.12.4 (tags/v3.12.4:8e8a4ba, Jun  6 2024, 19:30:16) [MSC v.1940 64 bit (AMD64)]\n",
      "📦 Local environment\n",
      "✅ Environment setup complete\n"
     ]
    }
   ],
   "source": [
    "# Environment detection and setup\n",
    "import os\n",
    "import sys\n",
    "from pathlib import Path\n",
    "\n",
    "RUNNING_ON_KAGGLE = 'KAGGLE_KERNEL_RUN_TYPE' in os.environ\n",
    "\n",
    "print(f\"🔍 Running on Kaggle: {RUNNING_ON_KAGGLE}\")\n",
    "print(f\"🐍 Python version: {sys.version}\")\n",
    "\n",
    "if RUNNING_ON_KAGGLE:\n",
    "    print(\"📦 Kaggle environment - packages pre-installed\")\n",
    "else:\n",
    "    print(\"📦 Local environment\")\n",
    "\n",
    "print(\"✅ Environment setup complete\")"
   ]
  },
  {
   "cell_type": "code",
   "execution_count": 2,
   "id": "c072b6af-7641-4e23-8b37-b5cd78a61d7b",
   "metadata": {},
   "outputs": [
    {
     "name": "stdout",
     "output_type": "stream",
     "text": [
      "✅ NumPy: 1.26.4\n",
      "✅ Matplotlib: 3.8.3\n",
      "✅ PyTorch: 2.9.0+cpu\n"
     ]
    },
    {
     "data": {
      "image/png": "[encoded data removed]",
      "text/plain": [
       "<Figure size 800x400 with 1 Axes>"
      ]
     },
     "metadata": {},
     "output_type": "display_data"
    },
    {
     "name": "stdout",
     "output_type": "stream",
     "text": [
      "🎉 All imports and functionality working!\n"
     ]
    }
   ],
   "source": [
    "import numpy as np\n",
    "import matplotlib\n",
    "import matplotlib.pyplot as plt\n",
    "import seaborn as sns\n",
    "import pandas as pd\n",
    "import torch\n",
    "\n",
    "print(f\"✅ NumPy: {np.__version__}\")\n",
    "print(f\"✅ Matplotlib: {matplotlib.__version__}\")\n",
    "print(f\"✅ PyTorch: {torch.__version__}\")\n",
    "\n",
    "# Test actual plotting functionality\n",
    "plt.figure(figsize=(8, 4))\n",
    "plt.plot([1, 2, 3], [1, 4, 2], 'b-', linewidth=2)\n",
    "plt.title(\"Test Plot - Matplotlib Working!\")\n",
    "plt.xlabel(\"X axis\")\n",
    "plt.ylabel(\"Y axis\")\n",
    "plt.grid(True)\n",
    "plt.show()\n",
    "\n",
    "print(\"🎉 All imports and functionality working!\")"
   ]
  },
  {
   "cell_type": "code",
   "execution_count": 3,
   "id": "a752e807",
   "metadata": {},
   "outputs": [
    {
     "name": "stdout",
     "output_type": "stream",
     "text": [
      "PyTorch version: 2.9.0+cpu\n",
      "CUDA available: False\n"
     ]
    }
   ],
   "source": [
    "# Core imports\n",
    "import numpy as np\n",
    "import pandas as pd\n",
    "import matplotlib.pyplot as plt\n",
    "import seaborn as sns\n",
    "import json\n",
    "import pickle\n",
    "import warnings\n",
    "from typing import Dict, List, Tuple, Optional\n",
    "import time\n",
    "from tqdm.auto import tqdm\n",
    "import gc\n",
    "\n",
    "# PyTorch\n",
    "import torch\n",
    "import torch.nn as nn\n",
    "import torch.nn.functional as F\n",
    "from torch.utils.data import Dataset, DataLoader, TensorDataset\n",
    "from torch.cuda.amp import autocast, GradScaler\n",
    "\n",
    "# Metrics\n",
    "from sklearn.metrics import (\n",
    "    accuracy_score, precision_score, recall_score,\n",
    "    f1_score, roc_auc_score, confusion_matrix,\n",
    "    classification_report, average_precision_score\n",
    ")\n",
    "\n",
    "warnings.filterwarnings('ignore')\n",
    "sns.set_style('whitegrid')\n",
    "plt.rcParams['figure.figsize'] = (12, 6)\n",
    "\n",
    "print(f'PyTorch version: {torch.__version__}')\n",
    "print(f'CUDA available: {torch.cuda.is_available()}')\n",
    "if torch.cuda.is_available():\n",
    "    print(f'GPU: {torch.cuda.get_device_name(0)}')\n",
    "    print(f'CUDA version: {torch.version.cuda}')"
   ]
  },
  {
   "cell_type": "markdown",
   "id": "9ca65dc1",
   "metadata": {},
   "source": [
    "## Path Configuration"
   ]
  },
  {
   "cell_type": "code",
   "execution_count": 4,
   "id": "9641544a",
   "metadata": {},
   "outputs": [
    {
     "name": "stdout",
     "output_type": "stream",
     "text": [
      "📁 Path Configuration:\n",
      "   Base path: C:\\Users\\youss\\Downloads\\Flag_finance\n",
      "   Data root: C:\\Users\\youss\\Downloads\\Flag_finance\\data\n",
      "   Processed data: C:\\Users\\youss\\Downloads\\Flag_finance\\data\\processed\n",
      "   Models directory: C:\\Users\\youss\\Downloads\\Flag_finance\\data\\models\n",
      "   Results output: C:\\Users\\youss\\Downloads\\Flag_finance\\data\\results\n",
      "\n",
      "🔧 Device: cpu\n"
     ]
    }
   ],
   "source": [
    "# Configure paths based on environment\n",
    "if RUNNING_ON_KAGGLE:\n",
    "    BASE_PATH = Path('/kaggle/input/flag-finance')\n",
    "    WORKING_ROOT = Path('/kaggle/working')\n",
    "    DATA_PATH = BASE_PATH / 'data'\n",
    "\n",
    "    # Input paths (read-only)\n",
    "    processed_candidates = [\n",
    "        DATA_PATH / 'processed',\n",
    "        BASE_PATH / 'processed',\n",
    "        BASE_PATH / 'processed' / 'processed'\n",
    "    ]\n",
    "    PROCESSED_PATH = next((p for p in processed_candidates if p.exists()), processed_candidates[-1])\n",
    "    GNN_MODELS_PATH = DATA_PATH / 'models'\n",
    "    LSTM_MODELS_PATH = DATA_PATH / 'models'\n",
    "\n",
    "    # Output paths (writable)\n",
    "    MODELS_PATH = WORKING_ROOT / 'models'\n",
    "    RESULTS_PATH = WORKING_ROOT / 'results'\n",
    "else:\n",
    "    BASE_PATH = Path(r'C:\\Users\\youss\\Downloads\\Flag_finance')\n",
    "    WORKING_ROOT = BASE_PATH\n",
    "    DATA_PATH = BASE_PATH / 'data'\n",
    "\n",
    "    PROCESSED_PATH = DATA_PATH / 'processed'\n",
    "    GNN_MODELS_PATH = DATA_PATH / 'models'\n",
    "    LSTM_MODELS_PATH = DATA_PATH / 'models'\n",
    "    MODELS_PATH = DATA_PATH / 'models'\n",
    "    RESULTS_PATH = DATA_PATH / 'results'\n",
    "\n",
    "# Create output directories\n",
    "MODELS_PATH.mkdir(exist_ok=True, parents=True)\n",
    "RESULTS_PATH.mkdir(exist_ok=True, parents=True)\n",
    "\n",
    "print(f'📁 Path Configuration:')\n",
    "print(f'   Base path: {BASE_PATH}')\n",
    "print(f'   Data root: {DATA_PATH}')\n",
    "print(f'   Processed data: {PROCESSED_PATH}')\n",
    "print(f'   Models directory: {GNN_MODELS_PATH}')\n",
    "print(f'   Results output: {RESULTS_PATH}')\n",
    "\n",
    "# Set device\n",
    "device = torch.device('cuda' if torch.cuda.is_available() else 'cpu')\n",
    "print(f'\\n🔧 Device: {device}')"
   ]
  },
  {
   "cell_type": "markdown",
   "id": "faa673ff",
   "metadata": {},
   "source": [
    "## Load Embeddings from Previous Notebooks"
   ]
  },
  {
   "cell_type": "code",
   "execution_count": 5,
   "id": "69475c52",
   "metadata": {},
   "outputs": [
    {
     "name": "stdout",
     "output_type": "stream",
     "text": [
      "======================================================================\n",
      "LOADING GNN AND LSTM EMBEDDINGS\n",
      "======================================================================\n",
      "\n",
      "✅ Loaded GNN embeddings from: C:\\Users\\youss\\Downloads\\Flag_finance\\data\\gnn_embeddings.pkl\n",
      "   Available models: ['HybridGNN_L4_H320']\n",
      "\n",
      "✅ Loaded LSTM embeddings from: C:\\Users\\youss\\Downloads\\Flag_finance\\data\\lstm_embeddings.pkl\n",
      "   Available models: ['BiLSTM_Attention', 'ResidualGRU', 'LSTM_CNN_Hybrid']\n"
     ]
    }
   ],
   "source": [
    "print('='*70)\n",
    "print('LOADING GNN AND LSTM EMBEDDINGS')\n",
    "print('='*70)\n",
    "\n",
    "# Helper to locate files across candidate paths\n",
    "def _locate_file(filename: str, candidates: List[Path]) -> Optional[Path]:\n",
    "    for candidate in candidates:\n",
    "        if candidate.exists():\n",
    "            return candidate\n",
    "    return None\n",
    "\n",
    "# Locate GNN embeddings\n",
    "_gnn_candidates = [\n",
    "    PROCESSED_PATH / 'gnn_embeddings.pkl',\n",
    "    DATA_PATH / 'gnn_embeddings.pkl',\n",
    "    WORKING_ROOT / 'gnn_embeddings.pkl',\n",
    "    GNN_MODELS_PATH / 'gnn_embeddings.pkl'\n",
    "]\n",
    "\n",
    "gnn_embeddings_file = _locate_file('gnn_embeddings.pkl', _gnn_candidates)\n",
    "\n",
    "if gnn_embeddings_file is not None:\n",
    "    with open(gnn_embeddings_file, 'rb') as f:\n",
    "        gnn_embeddings_dict = pickle.load(f)\n",
    "    print(f'\\n✅ Loaded GNN embeddings from: {gnn_embeddings_file}')\n",
    "    print(f'   Available models: {list(gnn_embeddings_dict.keys())}')\n",
    "else:\n",
    "    searched_paths = '\\n'.join([f'   - {path}' for path in _gnn_candidates])\n",
    "    raise FileNotFoundError(\n",
    "        'GNN embeddings not found. Looked in:\\n'\n",
    "        f'{searched_paths}\\n'\n",
    "        'Please run Notebook 03 first or place gnn_embeddings.pkl in one of these folders.'\n",
    "    )\n",
    "\n",
    "# Locate LSTM embeddings\n",
    "_lstm_candidates = [\n",
    "    PROCESSED_PATH / 'lstm_embeddings.pkl',\n",
    "    DATA_PATH / 'lstm_embeddings.pkl',\n",
    "    WORKING_ROOT / 'lstm_embeddings.pkl',\n",
    "    LSTM_MODELS_PATH / 'lstm_embeddings.pkl'\n",
    "]\n",
    "\n",
    "lstm_embeddings_file = _locate_file('lstm_embeddings.pkl', _lstm_candidates)\n",
    "\n",
    "if lstm_embeddings_file is not None:\n",
    "    with open(lstm_embeddings_file, 'rb') as f:\n",
    "        lstm_embeddings_dict = pickle.load(f)\n",
    "    print(f'\\n✅ Loaded LSTM embeddings from: {lstm_embeddings_file}')\n",
    "    print(f'   Available models: {list(lstm_embeddings_dict.keys())}')\n",
    "else:\n",
    "    searched_paths = '\\n'.join([f'   - {path}' for path in _lstm_candidates])\n",
    "    raise FileNotFoundError(\n",
    "        'LSTM embeddings not found. Looked in:\\n'\n",
    "        f'{searched_paths}\\n'\n",
    "        'Please run Notebook 04 first or place lstm_embeddings.pkl in one of these folders.'\n",
    "    )"
   ]
  },
  {
   "cell_type": "code",
   "execution_count": 6,
   "id": "c73ce532",
   "metadata": {},
   "outputs": [
    {
     "name": "stdout",
     "output_type": "stream",
     "text": [
      "\n",
      "🎯 Selected Models for Fusion:\n",
      "   GNN Model: HybridGNN_L4_H320\n",
      "   LSTM Model: LSTM_CNN_Hybrid\n",
      "\n",
      "TRAIN set:\n",
      "   GNN embeddings: (4498, 320)\n",
      "   LSTM embeddings: (4498, 256)\n",
      "   Labels: (4498,)\n",
      "   Fraud rate: 26.97%\n",
      "\n",
      "VAL set:\n",
      "   GNN embeddings: (1125, 320)\n",
      "   LSTM embeddings: (1125, 256)\n",
      "   Labels: (1125,)\n",
      "   Fraud rate: 23.29%\n",
      "\n",
      "TEST set:\n",
      "   GNN embeddings: (1406, 320)\n",
      "   LSTM embeddings: (1406, 256)\n",
      "   Labels: (1406,)\n",
      "   Fraud rate: 37.55%\n",
      "\n",
      "📊 Embedding Dimensions:\n",
      "   GNN: 320\n",
      "   LSTM: 256\n",
      "   Combined: 576\n"
     ]
    }
   ],
   "source": [
    "# Select best models from each modality\n",
    "# Override defaults based on available assets from TREE_STRUCTURE\n",
    "PREFERRED_GNN_MODEL = 'HybridGNN_L4_H320'\n",
    "PREFERRED_LSTM_MODEL = 'LSTM_CNN_Hybrid'\n",
    "\n",
    "gnn_available = list(gnn_embeddings_dict.keys())\n",
    "lstm_available = list(lstm_embeddings_dict.keys())\n",
    "\n",
    "SELECTED_GNN_MODEL = (\n",
    "    PREFERRED_GNN_MODEL if PREFERRED_GNN_MODEL in gnn_available else gnn_available[0]\n",
    ")\n",
    "SELECTED_LSTM_MODEL = (\n",
    "    PREFERRED_LSTM_MODEL if PREFERRED_LSTM_MODEL in lstm_available else lstm_available[0]\n",
    ")\n",
    "\n",
    "if SELECTED_GNN_MODEL != PREFERRED_GNN_MODEL:\n",
    "    print(f'⚠️ Preferred GNN model \"{PREFERRED_GNN_MODEL}\" not found. Using {SELECTED_GNN_MODEL} instead.')\n",
    "if SELECTED_LSTM_MODEL != PREFERRED_LSTM_MODEL:\n",
    "    print(f'⚠️ Preferred LSTM model \"{PREFERRED_LSTM_MODEL}\" not found. Using {SELECTED_LSTM_MODEL} instead.')\n",
    "\n",
    "print(f'\\n🎯 Selected Models for Fusion:')\n",
    "print(f'   GNN Model: {SELECTED_GNN_MODEL}')\n",
    "print(f'   LSTM Model: {SELECTED_LSTM_MODEL}')\n",
    "\n",
    "# Extract embeddings and labels\n",
    "gnn_data = gnn_embeddings_dict[SELECTED_GNN_MODEL]\n",
    "lstm_data = lstm_embeddings_dict[SELECTED_LSTM_MODEL]\n",
    "\n",
    "# Prepare data splits\n",
    "splits = ['train', 'val', 'test']\n",
    "fusion_data = {}\n",
    "\n",
    "for split in splits:\n",
    "    gnn_emb = gnn_data[split]['embeddings']\n",
    "    lstm_emb = lstm_data[split]['embeddings']\n",
    "    labels = gnn_data[split]['labels']\n",
    "    \n",
    "    # Ensure same number of samples\n",
    "    min_samples = min(len(gnn_emb), len(lstm_emb))\n",
    "    gnn_emb = gnn_emb[:min_samples]\n",
    "    lstm_emb = lstm_emb[:min_samples]\n",
    "    labels = labels[:min_samples]\n",
    "    \n",
    "    fusion_data[split] = {\n",
    "        'gnn_embeddings': gnn_emb,\n",
    "        'lstm_embeddings': lstm_emb,\n",
    "        'labels': labels\n",
    "    }\n",
    "    \n",
    "    print(f'\\n{split.upper()} set:')\n",
    "    print(f'   GNN embeddings: {gnn_emb.shape}')\n",
    "    print(f'   LSTM embeddings: {lstm_emb.shape}')\n",
    "    print(f'   Labels: {labels.shape}')\n",
    "    print(f'   Fraud rate: {labels.mean()*100:.2f}%')\n",
    "\n",
    "GNN_EMB_DIM = fusion_data['train']['gnn_embeddings'].shape[1]\n",
    "LSTM_EMB_DIM = fusion_data['train']['lstm_embeddings'].shape[1]\n",
    "\n",
    "print(f'\\n📊 Embedding Dimensions:')\n",
    "print(f'   GNN: {GNN_EMB_DIM}')\n",
    "print(f'   LSTM: {LSTM_EMB_DIM}')\n",
    "print(f'   Combined: {GNN_EMB_DIM + LSTM_EMB_DIM}')"
   ]
  },
  {
   "cell_type": "markdown",
   "id": "48367227",
   "metadata": {},
   "source": [
    "## Fusion Dataset and DataLoaders"
   ]
  },
  {
   "cell_type": "code",
   "execution_count": 7,
   "id": "9de45312",
   "metadata": {},
   "outputs": [
    {
     "name": "stdout",
     "output_type": "stream",
     "text": [
      "✅ Fusion datasets and dataloaders created\n",
      "   Batch size: 256\n",
      "   Train batches: 18\n",
      "   Val batches: 5\n",
      "   Test batches: 6\n"
     ]
    }
   ],
   "source": [
    "class FusionDataset(Dataset):\n",
    "    \"\"\"Dataset for fusion model combining GNN and LSTM embeddings.\"\"\"\n",
    "    \n",
    "    def __init__(self, gnn_embeddings, lstm_embeddings, labels):\n",
    "        self.gnn_embeddings = torch.FloatTensor(gnn_embeddings)\n",
    "        self.lstm_embeddings = torch.FloatTensor(lstm_embeddings)\n",
    "        self.labels = torch.LongTensor(labels)\n",
    "    \n",
    "    def __len__(self):\n",
    "        return len(self.labels)\n",
    "    \n",
    "    def __getitem__(self, idx):\n",
    "        return (\n",
    "            self.gnn_embeddings[idx],\n",
    "            self.lstm_embeddings[idx],\n",
    "            self.labels[idx]\n",
    "        )\n",
    "    \n",
    "    def get_class_weights(self):\n",
    "        \"\"\"Compute class weights for balanced training.\"\"\"\n",
    "        labels_np = self.labels.numpy()\n",
    "        class_counts = np.bincount(labels_np)\n",
    "        weights = 1.0 / class_counts\n",
    "        weights = weights / weights.sum() * len(weights)\n",
    "        return torch.FloatTensor(weights)\n",
    "\n",
    "# Create datasets\n",
    "train_dataset = FusionDataset(\n",
    "    fusion_data['train']['gnn_embeddings'],\n",
    "    fusion_data['train']['lstm_embeddings'],\n",
    "    fusion_data['train']['labels']\n",
    ")\n",
    "\n",
    "val_dataset = FusionDataset(\n",
    "    fusion_data['val']['gnn_embeddings'],\n",
    "    fusion_data['val']['lstm_embeddings'],\n",
    "    fusion_data['val']['labels']\n",
    ")\n",
    "\n",
    "test_dataset = FusionDataset(\n",
    "    fusion_data['test']['gnn_embeddings'],\n",
    "    fusion_data['test']['lstm_embeddings'],\n",
    "    fusion_data['test']['labels']\n",
    ")\n",
    "\n",
    "# Create data loaders\n",
    "BATCH_SIZE = 256\n",
    "\n",
    "train_loader = DataLoader(\n",
    "    train_dataset,\n",
    "    batch_size=BATCH_SIZE,\n",
    "    shuffle=True,\n",
    "    num_workers=0,\n",
    "    pin_memory=True if torch.cuda.is_available() else False\n",
    ")\n",
    "\n",
    "val_loader = DataLoader(\n",
    "    val_dataset,\n",
    "    batch_size=BATCH_SIZE,\n",
    "    shuffle=False,\n",
    "    num_workers=0,\n",
    "    pin_memory=True if torch.cuda.is_available() else False\n",
    ")\n",
    "\n",
    "test_loader = DataLoader(\n",
    "    test_dataset,\n",
    "    batch_size=BATCH_SIZE,\n",
    "    shuffle=False,\n",
    "    num_workers=0,\n",
    "    pin_memory=True if torch.cuda.is_available() else False\n",
    ")\n",
    "\n",
    "print('✅ Fusion datasets and dataloaders created')\n",
    "print(f'   Batch size: {BATCH_SIZE}')\n",
    "print(f'   Train batches: {len(train_loader)}')\n",
    "print(f'   Val batches: {len(val_loader)}')\n",
    "print(f'   Test batches: {len(test_loader)}')"
   ]
  },
  {
   "cell_type": "markdown",
   "id": "0b62ddae",
   "metadata": {},
   "source": [
    "## Fusion Model Architectures\n",
    "\n",
    "We implement three fusion strategies:\n",
    "\n",
    "1. **SimpleFusion**: Concatenation + MLP\n",
    "2. **AttentionFusion**: Learned attention weights for each modality\n",
    "3. **GatedFusion**: Gating mechanism to control information flow\n",
    "4. **CrossModalFusion**: Cross-attention between modalities"
   ]
  },
  {
   "cell_type": "code",
   "execution_count": 8,
   "id": "d6cad48d",
   "metadata": {},
   "outputs": [],
   "source": [
    "class SimpleFusion(nn.Module):\n",
    "    \"\"\"Simple concatenation-based fusion.\"\"\"\n",
    "    \n",
    "    def __init__(self, gnn_dim, lstm_dim, hidden_dim=256, num_classes=2, dropout=0.4):\n",
    "        super().__init__()\n",
    "        input_dim = gnn_dim + lstm_dim\n",
    "        \n",
    "        self.fusion = nn.Sequential(\n",
    "            nn.Linear(input_dim, hidden_dim * 2),\n",
    "            nn.BatchNorm1d(hidden_dim * 2),\n",
    "            nn.ReLU(),\n",
    "            nn.Dropout(dropout),\n",
    "            \n",
    "            nn.Linear(hidden_dim * 2, hidden_dim),\n",
    "            nn.BatchNorm1d(hidden_dim),\n",
    "            nn.ReLU(),\n",
    "            nn.Dropout(dropout * 0.7),\n",
    "            \n",
    "            nn.Linear(hidden_dim, hidden_dim // 2),\n",
    "            nn.BatchNorm1d(hidden_dim // 2),\n",
    "            nn.ReLU(),\n",
    "            nn.Dropout(dropout * 0.5),\n",
    "            \n",
    "            nn.Linear(hidden_dim // 2, num_classes)\n",
    "        )\n",
    "        self._init_weights()\n",
    "    \n",
    "    def _init_weights(self):\n",
    "        for module in self.modules():\n",
    "            if isinstance(module, nn.Linear):\n",
    "                nn.init.kaiming_normal_(module.weight, nonlinearity='relu')\n",
    "                if module.bias is not None:\n",
    "                    nn.init.zeros_(module.bias)\n",
    "    \n",
    "    def forward(self, gnn_emb, lstm_emb):\n",
    "        combined = torch.cat([gnn_emb, lstm_emb], dim=1)\n",
    "        return self.fusion(combined)\n",
    "\n",
    "\n",
    "class AttentionFusion(nn.Module):\n",
    "    \"\"\"Fusion with learned attention weights for each modality.\"\"\"\n",
    "    \n",
    "    def __init__(self, gnn_dim, lstm_dim, hidden_dim=256, num_classes=2, dropout=0.4):\n",
    "        super().__init__()\n",
    "        self.gnn_proj = nn.Sequential(\n",
    "            nn.Linear(gnn_dim, hidden_dim),\n",
    "            nn.LayerNorm(hidden_dim),\n",
    "            nn.ReLU()\n",
    "        )\n",
    "        self.lstm_proj = nn.Sequential(\n",
    "            nn.Linear(lstm_dim, hidden_dim),\n",
    "            nn.LayerNorm(hidden_dim),\n",
    "            nn.ReLU()\n",
    "        )\n",
    "        self.attention = nn.Sequential(\n",
    "            nn.Linear(hidden_dim * 2, hidden_dim),\n",
    "            nn.Tanh(),\n",
    "            nn.Linear(hidden_dim, 2),\n",
    "            nn.Softmax(dim=1)\n",
    "        )\n",
    "        self.classifier = nn.Sequential(\n",
    "            nn.Linear(hidden_dim, hidden_dim),\n",
    "            nn.BatchNorm1d(hidden_dim),\n",
    "            nn.ReLU(),\n",
    "            nn.Dropout(dropout),\n",
    "            \n",
    "            nn.Linear(hidden_dim, hidden_dim // 2),\n",
    "            nn.BatchNorm1d(hidden_dim // 2),\n",
    "            nn.ReLU(),\n",
    "            nn.Dropout(dropout * 0.7),\n",
    "            \n",
    "            nn.Linear(hidden_dim // 2, num_classes)\n",
    "        )\n",
    "        self._init_weights()\n",
    "    \n",
    "    def _init_weights(self):\n",
    "        for module in self.modules():\n",
    "            if isinstance(module, nn.Linear):\n",
    "                nn.init.xavier_uniform_(module.weight)\n",
    "                if module.bias is not None:\n",
    "                    nn.init.zeros_(module.bias)\n",
    "    \n",
    "    def forward(self, gnn_emb, lstm_emb):\n",
    "        gnn_proj = self.gnn_proj(gnn_emb)\n",
    "        lstm_proj = self.lstm_proj(lstm_emb)\n",
    "        combined = torch.cat([gnn_proj, lstm_proj], dim=1)\n",
    "        attn_weights = self.attention(combined)\n",
    "        gnn_weighted = gnn_proj * attn_weights[:, 0:1]\n",
    "        lstm_weighted = lstm_proj * attn_weights[:, 1:2]\n",
    "        fused = gnn_weighted + lstm_weighted\n",
    "        return self.classifier(fused)\n",
    "\n",
    "\n",
    "class GatedFusion(nn.Module):\n",
    "    \"\"\"Gated fusion with learned gating mechanism.\"\"\"\n",
    "    \n",
    "    def __init__(self, gnn_dim, lstm_dim, hidden_dim=256, num_classes=2, dropout=0.4):\n",
    "        super().__init__()\n",
    "        self.gnn_proj = nn.Sequential(\n",
    "            nn.Linear(gnn_dim, hidden_dim),\n",
    "            nn.LayerNorm(hidden_dim),\n",
    "            nn.ReLU()\n",
    "        )\n",
    "        self.lstm_proj = nn.Sequential(\n",
    "            nn.Linear(lstm_dim, hidden_dim),\n",
    "            nn.LayerNorm(hidden_dim),\n",
    "            nn.ReLU()\n",
    "        )\n",
    "        self.gate = nn.Sequential(\n",
    "            nn.Linear(hidden_dim * 2, hidden_dim),\n",
    "            nn.Tanh(),\n",
    "            nn.Linear(hidden_dim, hidden_dim),\n",
    "            nn.Sigmoid()\n",
    "        )\n",
    "        self.classifier = nn.Sequential(\n",
    "            nn.Linear(hidden_dim * 2, hidden_dim),\n",
    "            nn.BatchNorm1d(hidden_dim),\n",
    "            nn.ReLU(),\n",
    "            nn.Dropout(dropout),\n",
    "            \n",
    "            nn.Linear(hidden_dim, hidden_dim // 2),\n",
    "            nn.BatchNorm1d(hidden_dim // 2),\n",
    "            nn.ReLU(),\n",
    "            nn.Dropout(dropout * 0.7),\n",
    "            \n",
    "            nn.Linear(hidden_dim // 2, num_classes)\n",
    "        )\n",
    "        self._init_weights()\n",
    "    \n",
    "    def _init_weights(self):\n",
    "        for module in self.modules():\n",
    "            if isinstance(module, nn.Linear):\n",
    "                nn.init.xavier_uniform_(module.weight)\n",
    "                if module.bias is not None:\n",
    "                    nn.init.zeros_(module.bias)\n",
    "    \n",
    "    def forward(self, gnn_emb, lstm_emb):\n",
    "        gnn_proj = self.gnn_proj(gnn_emb)\n",
    "        lstm_proj = self.lstm_proj(lstm_emb)\n",
    "        combined = torch.cat([gnn_proj, lstm_proj], dim=1)\n",
    "        gate = self.gate(combined)\n",
    "        gnn_gated = gnn_proj * gate\n",
    "        lstm_gated = lstm_proj * (1 - gate)\n",
    "        fused = torch.cat([gnn_gated, lstm_gated], dim=1)\n",
    "        return self.classifier(fused)\n",
    "\n",
    "\n",
    "class CrossModalFusion(nn.Module):\n",
    "    \"\"\"Cross-modal attention fusion.\"\"\"\n",
    "    \n",
    "    def __init__(self, gnn_dim, lstm_dim, hidden_dim=256, num_classes=2, dropout=0.4):\n",
    "        super().__init__()\n",
    "        self.hidden_dim = hidden_dim\n",
    "        self.gnn_proj = nn.Sequential(\n",
    "            nn.Linear(gnn_dim, hidden_dim),\n",
    "            nn.LayerNorm(hidden_dim),\n",
    "            nn.ReLU()\n",
    "        )\n",
    "        self.lstm_proj = nn.Sequential(\n",
    "            nn.Linear(lstm_dim, hidden_dim),\n",
    "            nn.LayerNorm(hidden_dim),\n",
    "            nn.ReLU()\n",
    "        )\n",
    "        self.gnn_to_lstm_attn = nn.MultiheadAttention(\n",
    "            embed_dim=hidden_dim, num_heads=4, dropout=dropout, batch_first=True\n",
    "        )\n",
    "        self.lstm_to_gnn_attn = nn.MultiheadAttention(\n",
    "            embed_dim=hidden_dim, num_heads=4, dropout=dropout, batch_first=True\n",
    "        )\n",
    "        self.ffn = nn.Sequential(\n",
    "            nn.Linear(hidden_dim * 2, hidden_dim),\n",
    "            nn.ReLU(),\n",
    "            nn.Dropout(dropout),\n",
    "            nn.Linear(hidden_dim, hidden_dim)\n",
    "        )\n",
    "        self.classifier = nn.Sequential(\n",
    "            nn.Linear(hidden_dim, hidden_dim // 2),\n",
    "            nn.BatchNorm1d(hidden_dim // 2),\n",
    "            nn.ReLU(),\n",
    "            nn.Dropout(dropout * 0.7),\n",
    "            nn.Linear(hidden_dim // 2, num_classes)\n",
    "        )\n",
    "        self._init_weights()\n",
    "    \n",
    "    def _init_weights(self):\n",
    "        for module in self.modules():\n",
    "            if isinstance(module, nn.Linear):\n",
    "                nn.init.xavier_uniform_(module.weight)\n",
    "                if module.bias is not None:\n",
    "                    nn.init.zeros_(module.bias)\n",
    "    \n",
    "    def forward(self, gnn_emb, lstm_emb):\n",
    "        batch_size = gnn_emb.size(0)\n",
    "        gnn_proj = self.gnn_proj(gnn_emb).unsqueeze(1)\n",
    "        lstm_proj = self.lstm_proj(lstm_emb).unsqueeze(1)\n",
    "        \n",
    "        lstm_to_gnn, _ = self.lstm_to_gnn_attn(gnn_proj, lstm_proj, lstm_proj)\n",
    "        gnn_to_lstm, _ = self.gnn_to_lstm_attn(lstm_proj, gnn_proj, gnn_proj)\n",
    "        fused = torch.cat([lstm_to_gnn.squeeze(1), gnn_to_lstm.squeeze(1)], dim=1)\n",
    "        fused = self.ffn(fused)\n",
    "        return self.classifier(fused)"
   ]
  },
  {
   "cell_type": "markdown",
   "id": "3522f7ee",
   "metadata": {},
   "source": [
    "## Fusion Model Architectures\n",
    "\n",
    "We implement four fusion strategies:\n",
    "\n",
    "1. **SimpleFusion**: Concatenation + MLP\n",
    "2. **AttentionFusion**: Learned attention weights for each modality\n",
    "3. **GatedFusion**: Gating mechanism to control information flow\n",
    "4. **CrossModalFusion**: Cross-attention between modalities"
   ]
  },
  {
   "cell_type": "code",
   "execution_count": 9,
   "id": "8909bb94",
   "metadata": {},
   "outputs": [
    {
     "name": "stdout",
     "output_type": "stream",
     "text": [
      "✅ Fusion model architectures defined\n"
     ]
    }
   ],
   "source": [
    "class SimpleFusion(nn.Module):\n",
    "    \"\"\"Simple concatenation-based fusion.\"\"\"\n",
    "    \n",
    "    def __init__(self, gnn_dim, lstm_dim, hidden_dim=256, num_classes=2, dropout=0.4):\n",
    "        super().__init__()\n",
    "        \n",
    "        input_dim = gnn_dim + lstm_dim\n",
    "        \n",
    "        self.fusion = nn.Sequential(\n",
    "            nn.Linear(input_dim, hidden_dim * 2),\n",
    "            nn.BatchNorm1d(hidden_dim * 2),\n",
    "            nn.ReLU(),\n",
    "            nn.Dropout(dropout),\n",
    "            \n",
    "            nn.Linear(hidden_dim * 2, hidden_dim),\n",
    "            nn.BatchNorm1d(hidden_dim),\n",
    "            nn.ReLU(),\n",
    "            nn.Dropout(dropout * 0.7),\n",
    "            \n",
    "            nn.Linear(hidden_dim, hidden_dim // 2),\n",
    "            nn.BatchNorm1d(hidden_dim // 2),\n",
    "            nn.ReLU(),\n",
    "            nn.Dropout(dropout * 0.5),\n",
    "            \n",
    "            nn.Linear(hidden_dim // 2, num_classes)\n",
    "        )\n",
    "        \n",
    "        self._init_weights()\n",
    "    \n",
    "    def _init_weights(self):\n",
    "        for module in self.modules():\n",
    "            if isinstance(module, nn.Linear):\n",
    "                nn.init.kaiming_normal_(module.weight, nonlinearity='relu')\n",
    "                if module.bias is not None:\n",
    "                    nn.init.zeros_(module.bias)\n",
    "    \n",
    "    def forward(self, gnn_emb, lstm_emb):\n",
    "        combined = torch.cat([gnn_emb, lstm_emb], dim=1)\n",
    "        return self.fusion(combined)\n",
    "\n",
    "\n",
    "def _init_linear_weights(module):\n",
    "    if isinstance(module, nn.Linear):\n",
    "        nn.init.xavier_uniform_(module.weight)\n",
    "        if module.bias is not None:\n",
    "            nn.init.zeros_(module.bias)\n",
    "\n",
    "\n",
    "class AttentionFusion(nn.Module):\n",
    "    \"\"\"Fusion with learned attention weights for each modality.\"\"\"\n",
    "    \n",
    "    def __init__(self, gnn_dim, lstm_dim, hidden_dim=256, num_classes=2, dropout=0.4):\n",
    "        super().__init__()\n",
    "        \n",
    "        # Project embeddings to same dimension\n",
    "        self.gnn_proj = nn.Sequential(\n",
    "            nn.Linear(gnn_dim, hidden_dim),\n",
    "            nn.LayerNorm(hidden_dim),\n",
    "            nn.ReLU()\n",
    "        )\n",
    "        \n",
    "        self.lstm_proj = nn.Sequential(\n",
    "            nn.Linear(lstm_dim, hidden_dim),\n",
    "            nn.LayerNorm(hidden_dim),\n",
    "            nn.ReLU()\n",
    "        )\n",
    "        \n",
    "        # Attention mechanism\n",
    "        self.attention = nn.Sequential(\n",
    "            nn.Linear(hidden_dim * 2, hidden_dim),\n",
    "            nn.Tanh(),\n",
    "            nn.Linear(hidden_dim, 2),\n",
    "            nn.Softmax(dim=1)\n",
    "        )\n",
    "        \n",
    "        # Classifier\n",
    "        self.classifier = nn.Sequential(\n",
    "            nn.Linear(hidden_dim, hidden_dim),\n",
    "            nn.BatchNorm1d(hidden_dim),\n",
    "            nn.ReLU(),\n",
    "            nn.Dropout(dropout),\n",
    "            \n",
    "            nn.Linear(hidden_dim, hidden_dim // 2),\n",
    "            nn.BatchNorm1d(hidden_dim // 2),\n",
    "            nn.ReLU(),\n",
    "            nn.Dropout(dropout * 0.7),\n",
    "            \n",
    "            nn.Linear(hidden_dim // 2, num_classes)\n",
    "        )\n",
    "        \n",
    "        self.apply(_init_linear_weights)\n",
    "    \n",
    "    def forward(self, gnn_emb, lstm_emb):\n",
    "        # Project to same dimension\n",
    "        gnn_proj = self.gnn_proj(gnn_emb)\n",
    "        lstm_proj = self.lstm_proj(lstm_emb)\n",
    "        \n",
    "        # Compute attention weights\n",
    "        combined = torch.cat([gnn_proj, lstm_proj], dim=1)\n",
    "        attn_weights = self.attention(combined)  # (batch_size, 2)\n",
    "        \n",
    "        # Apply attention\n",
    "        gnn_weighted = gnn_proj * attn_weights[:, 0:1]\n",
    "        lstm_weighted = lstm_proj * attn_weights[:, 1:2]\n",
    "        \n",
    "        # Fused representation\n",
    "        fused = gnn_weighted + lstm_weighted\n",
    "        \n",
    "        return self.classifier(fused)\n",
    "\n",
    "\n",
    "class GatedFusion(nn.Module):\n",
    "    \"\"\"Gated fusion with learned gating mechanism.\"\"\"\n",
    "    \n",
    "    def __init__(self, gnn_dim, lstm_dim, hidden_dim=256, num_classes=2, dropout=0.4):\n",
    "        super().__init__()\n",
    "        \n",
    "        # Project embeddings\n",
    "        self.gnn_proj = nn.Sequential(\n",
    "            nn.Linear(gnn_dim, hidden_dim),\n",
    "            nn.LayerNorm(hidden_dim),\n",
    "            nn.ReLU()\n",
    "        )\n",
    "        \n",
    "        self.lstm_proj = nn.Sequential(\n",
    "            nn.Linear(lstm_dim, hidden_dim),\n",
    "            nn.LayerNorm(hidden_dim),\n",
    "            nn.ReLU()\n",
    "        )\n",
    "        \n",
    "        # Gating mechanism\n",
    "        self.gate = nn.Sequential(\n",
    "            nn.Linear(hidden_dim * 2, hidden_dim),\n",
    "            nn.Tanh(),\n",
    "            nn.Linear(hidden_dim, hidden_dim),\n",
    "            nn.Sigmoid()\n",
    "        )\n",
    "        \n",
    "        # Classifier\n",
    "        self.classifier = nn.Sequential(\n",
    "            nn.Linear(hidden_dim * 2, hidden_dim),\n",
    "            nn.BatchNorm1d(hidden_dim),\n",
    "            nn.ReLU(),\n",
    "            nn.Dropout(dropout),\n",
    "            \n",
    "            nn.Linear(hidden_dim, hidden_dim // 2),\n",
    "            nn.BatchNorm1d(hidden_dim // 2),\n",
    "            nn.ReLU(),\n",
    "            nn.Dropout(dropout * 0.7),\n",
    "            \n",
    "            nn.Linear(hidden_dim // 2, num_classes)\n",
    "        )\n",
    "        \n",
    "        self.apply(_init_linear_weights)\n",
    "    \n",
    "    def forward(self, gnn_emb, lstm_emb):\n",
    "        # Project embeddings\n",
    "        gnn_proj = self.gnn_proj(gnn_emb)\n",
    "        lstm_proj = self.lstm_proj(lstm_emb)\n",
    "        \n",
    "        # Compute gate\n",
    "        combined = torch.cat([gnn_proj, lstm_proj], dim=1)\n",
    "        gate = self.gate(combined)\n",
    "        \n",
    "        # Apply gating\n",
    "        gnn_gated = gnn_proj * gate\n",
    "        lstm_gated = lstm_proj * (1 - gate)\n",
    "        \n",
    "        # Concatenate and classify\n",
    "        fused = torch.cat([gnn_gated, lstm_gated], dim=1)\n",
    "        return self.classifier(fused)\n",
    "\n",
    "\n",
    "class CrossModalFusion(nn.Module):\n",
    "    \"\"\"Cross-modal attention fusion.\"\"\"\n",
    "    \n",
    "    def __init__(self, gnn_dim, lstm_dim, hidden_dim=256, num_classes=2, dropout=0.4, num_heads=4):\n",
    "        super().__init__()\n",
    "        \n",
    "        # Project embeddings\n",
    "        self.gnn_proj = nn.Sequential(\n",
    "            nn.Linear(gnn_dim, hidden_dim),\n",
    "            nn.LayerNorm(hidden_dim)\n",
    "        )\n",
    "        \n",
    "        self.lstm_proj = nn.Sequential(\n",
    "            nn.Linear(lstm_dim, hidden_dim),\n",
    "            nn.LayerNorm(hidden_dim)\n",
    "        )\n",
    "        \n",
    "        # Cross-attention: GNN -> LSTM\n",
    "        self.gnn_to_lstm_attn = nn.MultiheadAttention(\n",
    "            hidden_dim, num_heads=num_heads, dropout=dropout, batch_first=True\n",
    "        )\n",
    "        \n",
    "        # Cross-attention: LSTM -> GNN\n",
    "        self.lstm_to_gnn_attn = nn.MultiheadAttention(\n",
    "            hidden_dim, num_heads=num_heads, dropout=dropout, batch_first=True\n",
    "        )\n",
    "        \n",
    "        # Layer norms\n",
    "        self.norm1 = nn.LayerNorm(hidden_dim)\n",
    "        self.norm2 = nn.LayerNorm(hidden_dim)\n",
    "        \n",
    "        # Classifier\n",
    "        self.classifier = nn.Sequential(\n",
    "            nn.Linear(hidden_dim * 2, hidden_dim),\n",
    "            nn.BatchNorm1d(hidden_dim),\n",
    "            nn.ReLU(),\n",
    "            nn.Dropout(dropout),\n",
    "            \n",
    "            nn.Linear(hidden_dim, hidden_dim // 2),\n",
    "            nn.BatchNorm1d(hidden_dim // 2),\n",
    "            nn.ReLU(),\n",
    "            nn.Dropout(dropout * 0.7),\n",
    "            \n",
    "            nn.Linear(hidden_dim // 2, num_classes)\n",
    "        )\n",
    "        \n",
    "        self.apply(_init_linear_weights)\n",
    "    \n",
    "    def forward(self, gnn_emb, lstm_emb):\n",
    "        # Project embeddings\n",
    "        gnn_proj = self.gnn_proj(gnn_emb).unsqueeze(1)  # (batch, 1, hidden)\n",
    "        lstm_proj = self.lstm_proj(lstm_emb).unsqueeze(1)  # (batch, 1, hidden)\n",
    "        \n",
    "        # Cross-attention: GNN attends to LSTM\n",
    "        gnn_attended, _ = self.gnn_to_lstm_attn(gnn_proj, lstm_proj, lstm_proj)\n",
    "        gnn_attended = self.norm1(gnn_attended.squeeze(1) + gnn_proj.squeeze(1))\n",
    "        \n",
    "        # Cross-attention: LSTM attends to GNN\n",
    "        lstm_attended, _ = self.lstm_to_gnn_attn(lstm_proj, gnn_proj, gnn_proj)\n",
    "        lstm_attended = self.norm2(lstm_attended.squeeze(1) + lstm_proj.squeeze(1))\n",
    "        \n",
    "        # Concatenate and classify\n",
    "        fused = torch.cat([gnn_attended, lstm_attended], dim=1)\n",
    "        return self.classifier(fused)\n",
    "\n",
    "\n",
    "print('✅ Fusion model architectures defined')"
   ]
  },
  {
   "cell_type": "markdown",
   "id": "ac878429",
   "metadata": {},
   "source": [
    "## Training Utilities"
   ]
  },
  {
   "cell_type": "code",
   "execution_count": 10,
   "id": "78989dd9",
   "metadata": {},
   "outputs": [
    {
     "name": "stdout",
     "output_type": "stream",
     "text": [
      "✅ Training utilities defined\n"
     ]
    }
   ],
   "source": [
    "class FocalLoss(nn.Module):\n",
    "    \"\"\"Focal Loss for handling class imbalance.\"\"\"\n",
    "    \n",
    "    def __init__(self, alpha=None, gamma=2.0):\n",
    "        super().__init__()\n",
    "        self.alpha = alpha\n",
    "        self.gamma = gamma\n",
    "    \n",
    "    def forward(self, inputs, targets):\n",
    "        ce_loss = F.cross_entropy(inputs, targets, reduction='none', weight=self.alpha)\n",
    "        pt = torch.exp(-ce_loss)\n",
    "        focal_loss = ((1 - pt) ** self.gamma) * ce_loss\n",
    "        return focal_loss.mean()\n",
    "\n",
    "\n",
    "def train_epoch(model, loader, optimizer, criterion, scaler, device):\n",
    "    \"\"\"Train for one epoch.\"\"\"\n",
    "    model.train()\n",
    "    total_loss = 0\n",
    "    all_preds = []\n",
    "    all_labels = []\n",
    "    \n",
    "    for gnn_emb, lstm_emb, labels in tqdm(loader, desc='Training', leave=False):\n",
    "        gnn_emb = gnn_emb.to(device)\n",
    "        lstm_emb = lstm_emb.to(device)\n",
    "        labels = labels.to(device)\n",
    "        \n",
    "        optimizer.zero_grad(set_to_none=True)\n",
    "        \n",
    "        with autocast():\n",
    "            outputs = model(gnn_emb, lstm_emb)\n",
    "            loss = criterion(outputs, labels)\n",
    "        \n",
    "        scaler.scale(loss).backward()\n",
    "        scaler.unscale_(optimizer)\n",
    "        torch.nn.utils.clip_grad_norm_(model.parameters(), max_norm=1.0)\n",
    "        scaler.step(optimizer)\n",
    "        scaler.update()\n",
    "        \n",
    "        total_loss += loss.item() * gnn_emb.size(0)\n",
    "        \n",
    "        preds = outputs.argmax(dim=1)\n",
    "        all_preds.extend(preds.cpu().numpy())\n",
    "        all_labels.extend(labels.cpu().numpy())\n",
    "    \n",
    "    avg_loss = total_loss / len(loader.dataset)\n",
    "    accuracy = accuracy_score(all_labels, all_preds)\n",
    "    \n",
    "    return avg_loss, accuracy\n",
    "\n",
    "\n",
    "@torch.no_grad()\n",
    "def evaluate(model, loader, criterion, device):\n",
    "    \"\"\"Evaluate model.\"\"\"\n",
    "    model.eval()\n",
    "    total_loss = 0\n",
    "    all_preds = []\n",
    "    all_probs = []\n",
    "    all_labels = []\n",
    "    \n",
    "    for gnn_emb, lstm_emb, labels in tqdm(loader, desc='Evaluating', leave=False):\n",
    "        gnn_emb = gnn_emb.to(device)\n",
    "        lstm_emb = lstm_emb.to(device)\n",
    "        labels = labels.to(device)\n",
    "        \n",
    "        outputs = model(gnn_emb, lstm_emb)\n",
    "        loss = criterion(outputs, labels)\n",
    "        \n",
    "        total_loss += loss.item() * gnn_emb.size(0)\n",
    "        \n",
    "        probs = F.softmax(outputs, dim=1)\n",
    "        preds = probs.argmax(dim=1)\n",
    "        \n",
    "        all_preds.extend(preds.cpu().numpy())\n",
    "        all_probs.extend(probs[:, 1].cpu().numpy())\n",
    "        all_labels.extend(labels.cpu().numpy())\n",
    "    \n",
    "    avg_loss = total_loss / len(loader.dataset)\n",
    "    \n",
    "    all_preds = np.array(all_preds)\n",
    "    all_probs = np.array(all_probs)\n",
    "    all_labels = np.array(all_labels)\n",
    "    \n",
    "    metrics = {\n",
    "        'loss': avg_loss,\n",
    "        'accuracy': accuracy_score(all_labels, all_preds),\n",
    "        'precision': precision_score(all_labels, all_preds, zero_division=0),\n",
    "        'recall': recall_score(all_labels, all_preds, zero_division=0),\n",
    "        'f1': f1_score(all_labels, all_preds, zero_division=0),\n",
    "        'auc': roc_auc_score(all_labels, all_probs) if len(np.unique(all_labels)) > 1 else 0.0,\n",
    "        'ap': average_precision_score(all_labels, all_probs) if len(np.unique(all_labels)) > 1 else 0.0\n",
    "    }\n",
    "    \n",
    "    return metrics, all_preds, all_probs\n",
    "\n",
    "print('✅ Training utilities defined')"
   ]
  },
  {
   "cell_type": "markdown",
   "id": "f04ef06b",
   "metadata": {},
   "source": [
    "## Complete Training Loop"
   ]
  },
  {
   "cell_type": "code",
   "execution_count": 11,
   "id": "a449b2f9",
   "metadata": {},
   "outputs": [
    {
     "name": "stdout",
     "output_type": "stream",
     "text": [
      "✅ Complete training function defined\n"
     ]
    }
   ],
   "source": [
    "def train_fusion_model(model, train_loader, val_loader, test_loader, model_name,\n",
    "                       epochs=100, lr=0.001, patience=15, device='cuda'):\n",
    "    \"\"\"Complete training loop for fusion models.\"\"\"\n",
    "    \n",
    "    print(f'\\n{\"=\"*70}')\n",
    "    print(f'Training {model_name}')\n",
    "    print(f'{\"=\"*70}')\n",
    "    \n",
    "    # Get class weights\n",
    "    class_weights = train_loader.dataset.get_class_weights().to(device)\n",
    "    criterion = FocalLoss(alpha=class_weights, gamma=2.5)\n",
    "    \n",
    "    optimizer = torch.optim.AdamW(model.parameters(), lr=lr, weight_decay=1e-4)\n",
    "    scheduler = torch.optim.lr_scheduler.CosineAnnealingWarmRestarts(\n",
    "        optimizer, T_0=20, T_mult=2\n",
    "    )\n",
    "    scaler = GradScaler()\n",
    "    \n",
    "    best_val_f1 = 0\n",
    "    patience_counter = 0\n",
    "    history = {\n",
    "        'train_loss': [], 'train_acc': [],\n",
    "        'val_loss': [], 'val_acc': [], 'val_f1': [], 'val_auc': []\n",
    "    }\n",
    "    \n",
    "    start_time = time.time()\n",
    "    \n",
    "    for epoch in range(1, epochs + 1):\n",
    "        # Train\n",
    "        train_loss, train_acc = train_epoch(\n",
    "            model, train_loader, optimizer, criterion, scaler, device\n",
    "        )\n",
    "        \n",
    "        # Validate\n",
    "        val_metrics, _, _ = evaluate(model, val_loader, criterion, device)\n",
    "        \n",
    "        # Update scheduler\n",
    "        scheduler.step()\n",
    "        \n",
    "        # Record history\n",
    "        history['train_loss'].append(train_loss)\n",
    "        history['train_acc'].append(train_acc)\n",
    "        history['val_loss'].append(val_metrics['loss'])\n",
    "        history['val_acc'].append(val_metrics['accuracy'])\n",
    "        history['val_f1'].append(val_metrics['f1'])\n",
    "        history['val_auc'].append(val_metrics['auc'])\n",
    "        \n",
    "        # Print progress\n",
    "        if epoch % 5 == 0 or epoch == 1:\n",
    "            print(f'Epoch {epoch:03d}/{epochs} | '\n",
    "                  f'Loss: {train_loss:.4f} | '\n",
    "                  f'Val Acc: {val_metrics[\"accuracy\"]:.4f} | '\n",
    "                  f'Val F1: {val_metrics[\"f1\"]:.4f} | '\n",
    "                  f'Val AUC: {val_metrics[\"auc\"]:.4f}')\n",
    "        \n",
    "        # Save best model\n",
    "        if val_metrics['f1'] > best_val_f1:\n",
    "            best_val_f1 = val_metrics['f1']\n",
    "            patience_counter = 0\n",
    "            \n",
    "            checkpoint_path = MODELS_PATH / f'{model_name}_best.pt'\n",
    "            torch.save({\n",
    "                'model_state_dict': model.state_dict(),\n",
    "                'optimizer_state_dict': optimizer.state_dict(),\n",
    "                'epoch': epoch,\n",
    "                'val_metrics': val_metrics\n",
    "            }, checkpoint_path)\n",
    "        else:\n",
    "            patience_counter += 1\n",
    "        \n",
    "        # Early stopping\n",
    "        if patience_counter >= patience:\n",
    "            print(f'\\n⏹️ Early stopping at epoch {epoch}')\n",
    "            break\n",
    "    \n",
    "    train_time = time.time() - start_time\n",
    "    \n",
    "    # Load best model\n",
    "    checkpoint = torch.load(MODELS_PATH / f'{model_name}_best.pt', weights_only=False)\n",
    "    model.load_state_dict(checkpoint['model_state_dict'])\n",
    "    \n",
    "    # Test evaluation\n",
    "    test_metrics, test_pred, test_prob = evaluate(model, test_loader, criterion, device)\n",
    "    \n",
    "    print(f'\\n📊 Test Results:')\n",
    "    print(f'   Accuracy: {test_metrics[\"accuracy\"]:.4f}')\n",
    "    print(f'   Precision: {test_metrics[\"precision\"]:.4f}')\n",
    "    print(f'   Recall: {test_metrics[\"recall\"]:.4f}')\n",
    "    print(f'   F1 Score: {test_metrics[\"f1\"]:.4f}')\n",
    "    print(f'   AUC: {test_metrics[\"auc\"]:.4f}')\n",
    "    print(f'   AP: {test_metrics[\"ap\"]:.4f}')\n",
    "    \n",
    "    return {\n",
    "        'model': model,\n",
    "        'test_metrics': test_metrics,\n",
    "        'train_time': float(train_time),\n",
    "        'epochs': epoch,\n",
    "        'history': history,\n",
    "        'predictions': {'pred': test_pred.tolist(), 'prob': test_prob.tolist()}\n",
    "    }\n",
    "\n",
    "print('✅ Complete training function defined')"
   ]
  },
  {
   "cell_type": "markdown",
   "id": "9c24fd63",
   "metadata": {},
   "source": [
    "## Train All Fusion Models"
   ]
  },
  {
   "cell_type": "code",
   "execution_count": 12,
   "id": "435176aa",
   "metadata": {},
   "outputs": [
    {
     "name": "stdout",
     "output_type": "stream",
     "text": [
      "\n",
      "SimpleFusion: 461,698 parameters\n",
      "\n",
      "======================================================================\n",
      "Training SimpleFusion\n",
      "======================================================================\n"
     ]
    },
    {
     "data": {
      "application/vnd.jupyter.widget-view+json": {
       "model_id": "",
       "version_major": 2,
       "version_minor": 0
      },
      "text/plain": [
       "Training:   0%|          | 0/18 [00:00<?, ?it/s]"
      ]
     },
     "metadata": {},
     "output_type": "display_data"
    },
    {
     "data": {
      "application/vnd.jupyter.widget-view+json": {
       "model_id": "",
       "version_major": 2,
       "version_minor": 0
      },
      "text/plain": [
       "Evaluating:   0%|          | 0/5 [00:00<?, ?it/s]"
      ]
     },
     "metadata": {},
     "output_type": "display_data"
    },
    {
     "name": "stdout",
     "output_type": "stream",
     "text": [
      "Epoch 001/100 | Loss: 0.0707 | Val Acc: 0.8853 | Val F1: 0.7616 | Val AUC: 0.8960\n"
     ]
    },
    {
     "data": {
      "application/vnd.jupyter.widget-view+json": {
       "model_id": "",
       "version_major": 2,
       "version_minor": 0
      },
      "text/plain": [
       "Training:   0%|          | 0/18 [00:00<?, ?it/s]"
      ]
     },
     "metadata": {},
     "output_type": "display_data"
    },
    {
     "data": {
      "application/vnd.jupyter.widget-view+json": {
       "model_id": "",
       "version_major": 2,
       "version_minor": 0
      },
      "text/plain": [
       "Evaluating:   0%|          | 0/5 [00:00<?, ?it/s]"
      ]
     },
     "metadata": {},
     "output_type": "display_data"
    },
    {
     "data": {
      "application/vnd.jupyter.widget-view+json": {
       "model_id": "",
       "version_major": 2,
       "version_minor": 0
      },
      "text/plain": [
       "Training:   0%|          | 0/18 [00:00<?, ?it/s]"
      ]
     },
     "metadata": {},
     "output_type": "display_data"
    },
    {
     "data": {
      "application/vnd.jupyter.widget-view+json": {
       "model_id": "",
       "version_major": 2,
       "version_minor": 0
      },
      "text/plain": [
       "Evaluating:   0%|          | 0/5 [00:00<?, ?it/s]"
      ]
     },
     "metadata": {},
     "output_type": "display_data"
    },
    {
     "data": {
      "application/vnd.jupyter.widget-view+json": {
       "model_id": "",
       "version_major": 2,
       "version_minor": 0
      },
      "text/plain": [
       "Training:   0%|          | 0/18 [00:00<?, ?it/s]"
      ]
     },
     "metadata": {},
     "output_type": "display_data"
    },
    {
     "data": {
      "application/vnd.jupyter.widget-view+json": {
       "model_id": "",
       "version_major": 2,
       "version_minor": 0
      },
      "text/plain": [
       "Evaluating:   0%|          | 0/5 [00:00<?, ?it/s]"
      ]
     },
     "metadata": {},
     "output_type": "display_data"
    },
    {
     "data": {
      "application/vnd.jupyter.widget-view+json": {
       "model_id": "",
       "version_major": 2,
       "version_minor": 0
      },
      "text/plain": [
       "Training:   0%|          | 0/18 [00:00<?, ?it/s]"
      ]
     },
     "metadata": {},
     "output_type": "display_data"
    },
    {
     "data": {
      "application/vnd.jupyter.widget-view+json": {
       "model_id": "",
       "version_major": 2,
       "version_minor": 0
      },
      "text/plain": [
       "Evaluating:   0%|          | 0/5 [00:00<?, ?it/s]"
      ]
     },
     "metadata": {},
     "output_type": "display_data"
    },
    {
     "name": "stdout",
     "output_type": "stream",
     "text": [
      "Epoch 005/100 | Loss: 0.0239 | Val Acc: 0.8782 | Val F1: 0.7468 | Val AUC: 0.8797\n"
     ]
    },
    {
     "data": {
      "application/vnd.jupyter.widget-view+json": {
       "model_id": "",
       "version_major": 2,
       "version_minor": 0
      },
      "text/plain": [
       "Training:   0%|          | 0/18 [00:00<?, ?it/s]"
      ]
     },
     "metadata": {},
     "output_type": "display_data"
    },
    {
     "data": {
      "application/vnd.jupyter.widget-view+json": {
       "model_id": "",
       "version_major": 2,
       "version_minor": 0
      },
      "text/plain": [
       "Evaluating:   0%|          | 0/5 [00:00<?, ?it/s]"
      ]
     },
     "metadata": {},
     "output_type": "display_data"
    },
    {
     "data": {
      "application/vnd.jupyter.widget-view+json": {
       "model_id": "",
       "version_major": 2,
       "version_minor": 0
      },
      "text/plain": [
       "Training:   0%|          | 0/18 [00:00<?, ?it/s]"
      ]
     },
     "metadata": {},
     "output_type": "display_data"
    },
    {
     "data": {
      "application/vnd.jupyter.widget-view+json": {
       "model_id": "",
       "version_major": 2,
       "version_minor": 0
      },
      "text/plain": [
       "Evaluating:   0%|          | 0/5 [00:00<?, ?it/s]"
      ]
     },
     "metadata": {},
     "output_type": "display_data"
    },
    {
     "data": {
      "application/vnd.jupyter.widget-view+json": {
       "model_id": "",
       "version_major": 2,
       "version_minor": 0
      },
      "text/plain": [
       "Training:   0%|          | 0/18 [00:00<?, ?it/s]"
      ]
     },
     "metadata": {},
     "output_type": "display_data"
    },
    {
     "data": {
      "application/vnd.jupyter.widget-view+json": {
       "model_id": "",
       "version_major": 2,
       "version_minor": 0
      },
      "text/plain": [
       "Evaluating:   0%|          | 0/5 [00:00<?, ?it/s]"
      ]
     },
     "metadata": {},
     "output_type": "display_data"
    },
    {
     "data": {
      "application/vnd.jupyter.widget-view+json": {
       "model_id": "",
       "version_major": 2,
       "version_minor": 0
      },
      "text/plain": [
       "Training:   0%|          | 0/18 [00:00<?, ?it/s]"
      ]
     },
     "metadata": {},
     "output_type": "display_data"
    },
    {
     "data": {
      "application/vnd.jupyter.widget-view+json": {
       "model_id": "",
       "version_major": 2,
       "version_minor": 0
      },
      "text/plain": [
       "Evaluating:   0%|          | 0/5 [00:00<?, ?it/s]"
      ]
     },
     "metadata": {},
     "output_type": "display_data"
    },
    {
     "data": {
      "application/vnd.jupyter.widget-view+json": {
       "model_id": "",
       "version_major": 2,
       "version_minor": 0
      },
      "text/plain": [
       "Training:   0%|          | 0/18 [00:00<?, ?it/s]"
      ]
     },
     "metadata": {},
     "output_type": "display_data"
    },
    {
     "data": {
      "application/vnd.jupyter.widget-view+json": {
       "model_id": "",
       "version_major": 2,
       "version_minor": 0
      },
      "text/plain": [
       "Evaluating:   0%|          | 0/5 [00:00<?, ?it/s]"
      ]
     },
     "metadata": {},
     "output_type": "display_data"
    },
    {
     "name": "stdout",
     "output_type": "stream",
     "text": [
      "Epoch 010/100 | Loss: 0.0143 | Val Acc: 0.8827 | Val F1: 0.7556 | Val AUC: 0.8837\n"
     ]
    },
    {
     "data": {
      "application/vnd.jupyter.widget-view+json": {
       "model_id": "",
       "version_major": 2,
       "version_minor": 0
      },
      "text/plain": [
       "Training:   0%|          | 0/18 [00:00<?, ?it/s]"
      ]
     },
     "metadata": {},
     "output_type": "display_data"
    },
    {
     "data": {
      "application/vnd.jupyter.widget-view+json": {
       "model_id": "",
       "version_major": 2,
       "version_minor": 0
      },
      "text/plain": [
       "Evaluating:   0%|          | 0/5 [00:00<?, ?it/s]"
      ]
     },
     "metadata": {},
     "output_type": "display_data"
    },
    {
     "data": {
      "application/vnd.jupyter.widget-view+json": {
       "model_id": "",
       "version_major": 2,
       "version_minor": 0
      },
      "text/plain": [
       "Training:   0%|          | 0/18 [00:00<?, ?it/s]"
      ]
     },
     "metadata": {},
     "output_type": "display_data"
    },
    {
     "data": {
      "application/vnd.jupyter.widget-view+json": {
       "model_id": "",
       "version_major": 2,
       "version_minor": 0
      },
      "text/plain": [
       "Evaluating:   0%|          | 0/5 [00:00<?, ?it/s]"
      ]
     },
     "metadata": {},
     "output_type": "display_data"
    },
    {
     "data": {
      "application/vnd.jupyter.widget-view+json": {
       "model_id": "",
       "version_major": 2,
       "version_minor": 0
      },
      "text/plain": [
       "Training:   0%|          | 0/18 [00:00<?, ?it/s]"
      ]
     },
     "metadata": {},
     "output_type": "display_data"
    },
    {
     "data": {
      "application/vnd.jupyter.widget-view+json": {
       "model_id": "",
       "version_major": 2,
       "version_minor": 0
      },
      "text/plain": [
       "Evaluating:   0%|          | 0/5 [00:00<?, ?it/s]"
      ]
     },
     "metadata": {},
     "output_type": "display_data"
    },
    {
     "data": {
      "application/vnd.jupyter.widget-view+json": {
       "model_id": "",
       "version_major": 2,
       "version_minor": 0
      },
      "text/plain": [
       "Training:   0%|          | 0/18 [00:00<?, ?it/s]"
      ]
     },
     "metadata": {},
     "output_type": "display_data"
    },
    {
     "data": {
      "application/vnd.jupyter.widget-view+json": {
       "model_id": "",
       "version_major": 2,
       "version_minor": 0
      },
      "text/plain": [
       "Evaluating:   0%|          | 0/5 [00:00<?, ?it/s]"
      ]
     },
     "metadata": {},
     "output_type": "display_data"
    },
    {
     "data": {
      "application/vnd.jupyter.widget-view+json": {
       "model_id": "",
       "version_major": 2,
       "version_minor": 0
      },
      "text/plain": [
       "Training:   0%|          | 0/18 [00:00<?, ?it/s]"
      ]
     },
     "metadata": {},
     "output_type": "display_data"
    },
    {
     "data": {
      "application/vnd.jupyter.widget-view+json": {
       "model_id": "",
       "version_major": 2,
       "version_minor": 0
      },
      "text/plain": [
       "Evaluating:   0%|          | 0/5 [00:00<?, ?it/s]"
      ]
     },
     "metadata": {},
     "output_type": "display_data"
    },
    {
     "name": "stdout",
     "output_type": "stream",
     "text": [
      "Epoch 015/100 | Loss: 0.0139 | Val Acc: 0.8836 | Val F1: 0.7579 | Val AUC: 0.8827\n"
     ]
    },
    {
     "data": {
      "application/vnd.jupyter.widget-view+json": {
       "model_id": "",
       "version_major": 2,
       "version_minor": 0
      },
      "text/plain": [
       "Training:   0%|          | 0/18 [00:00<?, ?it/s]"
      ]
     },
     "metadata": {},
     "output_type": "display_data"
    },
    {
     "data": {
      "application/vnd.jupyter.widget-view+json": {
       "model_id": "",
       "version_major": 2,
       "version_minor": 0
      },
      "text/plain": [
       "Evaluating:   0%|          | 0/5 [00:00<?, ?it/s]"
      ]
     },
     "metadata": {},
     "output_type": "display_data"
    },
    {
     "name": "stdout",
     "output_type": "stream",
     "text": [
      "\n",
      "⏹️ Early stopping at epoch 16\n"
     ]
    },
    {
     "data": {
      "application/vnd.jupyter.widget-view+json": {
       "model_id": "",
       "version_major": 2,
       "version_minor": 0
      },
      "text/plain": [
       "Evaluating:   0%|          | 0/6 [00:00<?, ?it/s]"
      ]
     },
     "metadata": {},
     "output_type": "display_data"
    },
    {
     "name": "stdout",
     "output_type": "stream",
     "text": [
      "\n",
      "📊 Test Results:\n",
      "   Accuracy: 0.7482\n",
      "   Precision: 0.7919\n",
      "   Recall: 0.4470\n",
      "   F1 Score: 0.5714\n",
      "   AUC: 0.7494\n",
      "   AP: 0.7033\n",
      "\n",
      "AttentionFusion: 380,548 parameters\n",
      "\n",
      "======================================================================\n",
      "Training AttentionFusion\n",
      "======================================================================\n"
     ]
    },
    {
     "data": {
      "application/vnd.jupyter.widget-view+json": {
       "model_id": "",
       "version_major": 2,
       "version_minor": 0
      },
      "text/plain": [
       "Training:   0%|          | 0/18 [00:00<?, ?it/s]"
      ]
     },
     "metadata": {},
     "output_type": "display_data"
    },
    {
     "data": {
      "application/vnd.jupyter.widget-view+json": {
       "model_id": "",
       "version_major": 2,
       "version_minor": 0
      },
      "text/plain": [
       "Evaluating:   0%|          | 0/5 [00:00<?, ?it/s]"
      ]
     },
     "metadata": {},
     "output_type": "display_data"
    },
    {
     "name": "stdout",
     "output_type": "stream",
     "text": [
      "Epoch 001/100 | Loss: 0.0750 | Val Acc: 0.8898 | Val F1: 0.7606 | Val AUC: 0.8718\n"
     ]
    },
    {
     "data": {
      "application/vnd.jupyter.widget-view+json": {
       "model_id": "",
       "version_major": 2,
       "version_minor": 0
      },
      "text/plain": [
       "Training:   0%|          | 0/18 [00:00<?, ?it/s]"
      ]
     },
     "metadata": {},
     "output_type": "display_data"
    },
    {
     "data": {
      "application/vnd.jupyter.widget-view+json": {
       "model_id": "",
       "version_major": 2,
       "version_minor": 0
      },
      "text/plain": [
       "Evaluating:   0%|          | 0/5 [00:00<?, ?it/s]"
      ]
     },
     "metadata": {},
     "output_type": "display_data"
    },
    {
     "data": {
      "application/vnd.jupyter.widget-view+json": {
       "model_id": "",
       "version_major": 2,
       "version_minor": 0
      },
      "text/plain": [
       "Training:   0%|          | 0/18 [00:00<?, ?it/s]"
      ]
     },
     "metadata": {},
     "output_type": "display_data"
    },
    {
     "data": {
      "application/vnd.jupyter.widget-view+json": {
       "model_id": "",
       "version_major": 2,
       "version_minor": 0
      },
      "text/plain": [
       "Evaluating:   0%|          | 0/5 [00:00<?, ?it/s]"
      ]
     },
     "metadata": {},
     "output_type": "display_data"
    },
    {
     "data": {
      "application/vnd.jupyter.widget-view+json": {
       "model_id": "",
       "version_major": 2,
       "version_minor": 0
      },
      "text/plain": [
       "Training:   0%|          | 0/18 [00:00<?, ?it/s]"
      ]
     },
     "metadata": {},
     "output_type": "display_data"
    },
    {
     "data": {
      "application/vnd.jupyter.widget-view+json": {
       "model_id": "",
       "version_major": 2,
       "version_minor": 0
      },
      "text/plain": [
       "Evaluating:   0%|          | 0/5 [00:00<?, ?it/s]"
      ]
     },
     "metadata": {},
     "output_type": "display_data"
    },
    {
     "data": {
      "application/vnd.jupyter.widget-view+json": {
       "model_id": "",
       "version_major": 2,
       "version_minor": 0
      },
      "text/plain": [
       "Training:   0%|          | 0/18 [00:00<?, ?it/s]"
      ]
     },
     "metadata": {},
     "output_type": "display_data"
    },
    {
     "data": {
      "application/vnd.jupyter.widget-view+json": {
       "model_id": "5663e8d689a243528294df9631491722",
       "version_major": 2,
       "version_minor": 0
      },
      "text/plain": [
       "Evaluating:   0%|          | 0/5 [00:00<?, ?it/s]"
      ]
     },
     "metadata": {},
     "output_type": "display_data"
    },
    {
     "name": "stdout",
     "output_type": "stream",
     "text": [
      "Epoch 005/100 | Loss: 0.0169 | Val Acc: 0.8809 | Val F1: 0.7546 | Val AUC: 0.8667\n"
     ]
    },
    {
     "data": {
      "application/vnd.jupyter.widget-view+json": {
       "model_id": "492938a061354cb1b2fadfc349c57fcf",
       "version_major": 2,
       "version_minor": 0
      },
      "text/plain": [
       "Training:   0%|          | 0/18 [00:00<?, ?it/s]"
      ]
     },
     "metadata": {},
     "output_type": "display_data"
    },
    {
     "data": {
      "application/vnd.jupyter.widget-view+json": {
       "model_id": "af3cac021d384807b181930e28d957f2",
       "version_major": 2,
       "version_minor": 0
      },
      "text/plain": [
       "Evaluating:   0%|          | 0/5 [00:00<?, ?it/s]"
      ]
     },
     "metadata": {},
     "output_type": "display_data"
    },
    {
     "data": {
      "application/vnd.jupyter.widget-view+json": {
       "model_id": "46ff66f8d5e64e6b82816d9d8f39c961",
       "version_major": 2,
       "version_minor": 0
      },
      "text/plain": [
       "Training:   0%|          | 0/18 [00:00<?, ?it/s]"
      ]
     },
     "metadata": {},
     "output_type": "display_data"
    },
    {
     "data": {
      "application/vnd.jupyter.widget-view+json": {
       "model_id": "8ebef7671771436f86857387f5f828d7",
       "version_major": 2,
       "version_minor": 0
      },
      "text/plain": [
       "Evaluating:   0%|          | 0/5 [00:00<?, ?it/s]"
      ]
     },
     "metadata": {},
     "output_type": "display_data"
    },
    {
     "data": {
      "application/vnd.jupyter.widget-view+json": {
       "model_id": "0771e0a9b1ce489893da48903703642e",
       "version_major": 2,
       "version_minor": 0
      },
      "text/plain": [
       "Training:   0%|          | 0/18 [00:00<?, ?it/s]"
      ]
     },
     "metadata": {},
     "output_type": "display_data"
    },
    {
     "data": {
      "application/vnd.jupyter.widget-view+json": {
       "model_id": "ca282f3e166d4fb1b37ff8bcc64737ef",
       "version_major": 2,
       "version_minor": 0
      },
      "text/plain": [
       "Evaluating:   0%|          | 0/5 [00:00<?, ?it/s]"
      ]
     },
     "metadata": {},
     "output_type": "display_data"
    },
    {
     "data": {
      "application/vnd.jupyter.widget-view+json": {
       "model_id": "850e0f0bb4ea48ccb48524a14137ef75",
       "version_major": 2,
       "version_minor": 0
      },
      "text/plain": [
       "Training:   0%|          | 0/18 [00:00<?, ?it/s]"
      ]
     },
     "metadata": {},
     "output_type": "display_data"
    },
    {
     "data": {
      "application/vnd.jupyter.widget-view+json": {
       "model_id": "983e54fc87bf4e079cf4e48231438651",
       "version_major": 2,
       "version_minor": 0
      },
      "text/plain": [
       "Evaluating:   0%|          | 0/5 [00:00<?, ?it/s]"
      ]
     },
     "metadata": {},
     "output_type": "display_data"
    },
    {
     "data": {
      "application/vnd.jupyter.widget-view+json": {
       "model_id": "334747dc09af4a1c9a2bf016b3854134",
       "version_major": 2,
       "version_minor": 0
      },
      "text/plain": [
       "Training:   0%|          | 0/18 [00:00<?, ?it/s]"
      ]
     },
     "metadata": {},
     "output_type": "display_data"
    },
    {
     "data": {
      "application/vnd.jupyter.widget-view+json": {
       "model_id": "e9ebd71364c740d5a3d2b5ea53935992",
       "version_major": 2,
       "version_minor": 0
      },
      "text/plain": [
       "Evaluating:   0%|          | 0/5 [00:00<?, ?it/s]"
      ]
     },
     "metadata": {},
     "output_type": "display_data"
    },
    {
     "name": "stdout",
     "output_type": "stream",
     "text": [
      "Epoch 010/100 | Loss: 0.0114 | Val Acc: 0.8844 | Val F1: 0.7593 | Val AUC: 0.8587\n"
     ]
    },
    {
     "data": {
      "application/vnd.jupyter.widget-view+json": {
       "model_id": "7f551a4b2cf34ab097c71c5510c8cc26",
       "version_major": 2,
       "version_minor": 0
      },
      "text/plain": [
       "Training:   0%|          | 0/18 [00:00<?, ?it/s]"
      ]
     },
     "metadata": {},
     "output_type": "display_data"
    },
    {
     "data": {
      "application/vnd.jupyter.widget-view+json": {
       "model_id": "f09ad14ea223492db002eab5990f532b",
       "version_major": 2,
       "version_minor": 0
      },
      "text/plain": [
       "Evaluating:   0%|          | 0/5 [00:00<?, ?it/s]"
      ]
     },
     "metadata": {},
     "output_type": "display_data"
    },
    {
     "data": {
      "application/vnd.jupyter.widget-view+json": {
       "model_id": "9546f212413445f2a54ca9ad8f70eebe",
       "version_major": 2,
       "version_minor": 0
      },
      "text/plain": [
       "Training:   0%|          | 0/18 [00:00<?, ?it/s]"
      ]
     },
     "metadata": {},
     "output_type": "display_data"
    },
    {
     "data": {
      "application/vnd.jupyter.widget-view+json": {
       "model_id": "380f84b68be042579d64ece33f270d88",
       "version_major": 2,
       "version_minor": 0
      },
      "text/plain": [
       "Evaluating:   0%|          | 0/5 [00:00<?, ?it/s]"
      ]
     },
     "metadata": {},
     "output_type": "display_data"
    },
    {
     "data": {
      "application/vnd.jupyter.widget-view+json": {
       "model_id": "2fbc352487c0478ab1c26e3e794ba22a",
       "version_major": 2,
       "version_minor": 0
      },
      "text/plain": [
       "Training:   0%|          | 0/18 [00:00<?, ?it/s]"
      ]
     },
     "metadata": {},
     "output_type": "display_data"
    },
    {
     "data": {
      "application/vnd.jupyter.widget-view+json": {
       "model_id": "6d080f5d575e4744b4c6c0814e1ada39",
       "version_major": 2,
       "version_minor": 0
      },
      "text/plain": [
       "Evaluating:   0%|          | 0/5 [00:00<?, ?it/s]"
      ]
     },
     "metadata": {},
     "output_type": "display_data"
    },
    {
     "data": {
      "application/vnd.jupyter.widget-view+json": {
       "model_id": "90e4db4cbf99458ba8e5dd126ada8187",
       "version_major": 2,
       "version_minor": 0
      },
      "text/plain": [
       "Training:   0%|          | 0/18 [00:00<?, ?it/s]"
      ]
     },
     "metadata": {},
     "output_type": "display_data"
    },
    {
     "data": {
      "application/vnd.jupyter.widget-view+json": {
       "model_id": "cdd8efb9baff49e1ac5a399ab819d053",
       "version_major": 2,
       "version_minor": 0
      },
      "text/plain": [
       "Evaluating:   0%|          | 0/5 [00:00<?, ?it/s]"
      ]
     },
     "metadata": {},
     "output_type": "display_data"
    },
    {
     "data": {
      "application/vnd.jupyter.widget-view+json": {
       "model_id": "26d20f2c4bec4032ac01b12336d796e6",
       "version_major": 2,
       "version_minor": 0
      },
      "text/plain": [
       "Training:   0%|          | 0/18 [00:00<?, ?it/s]"
      ]
     },
     "metadata": {},
     "output_type": "display_data"
    },
    {
     "data": {
      "application/vnd.jupyter.widget-view+json": {
       "model_id": "6590604f6e084cefb15e414387e6c810",
       "version_major": 2,
       "version_minor": 0
      },
      "text/plain": [
       "Evaluating:   0%|          | 0/5 [00:00<?, ?it/s]"
      ]
     },
     "metadata": {},
     "output_type": "display_data"
    },
    {
     "name": "stdout",
     "output_type": "stream",
     "text": [
      "Epoch 015/100 | Loss: 0.0089 | Val Acc: 0.8853 | Val F1: 0.7607 | Val AUC: 0.8589\n"
     ]
    },
    {
     "data": {
      "application/vnd.jupyter.widget-view+json": {
       "model_id": "026977b06bd54f14b0019cb797ae590e",
       "version_major": 2,
       "version_minor": 0
      },
      "text/plain": [
       "Training:   0%|          | 0/18 [00:00<?, ?it/s]"
      ]
     },
     "metadata": {},
     "output_type": "display_data"
    },
    {
     "data": {
      "application/vnd.jupyter.widget-view+json": {
       "model_id": "38f9ca6a89074b06a1587411f0f307f8",
       "version_major": 2,
       "version_minor": 0
      },
      "text/plain": [
       "Evaluating:   0%|          | 0/5 [00:00<?, ?it/s]"
      ]
     },
     "metadata": {},
     "output_type": "display_data"
    },
    {
     "data": {
      "application/vnd.jupyter.widget-view+json": {
       "model_id": "75b1ca4bfa464ee2b61f582ced8faa6c",
       "version_major": 2,
       "version_minor": 0
      },
      "text/plain": [
       "Training:   0%|          | 0/18 [00:00<?, ?it/s]"
      ]
     },
     "metadata": {},
     "output_type": "display_data"
    },
    {
     "data": {
      "application/vnd.jupyter.widget-view+json": {
       "model_id": "3a5c0da492724e7e841898d29579e381",
       "version_major": 2,
       "version_minor": 0
      },
      "text/plain": [
       "Evaluating:   0%|          | 0/5 [00:00<?, ?it/s]"
      ]
     },
     "metadata": {},
     "output_type": "display_data"
    },
    {
     "data": {
      "application/vnd.jupyter.widget-view+json": {
       "model_id": "da54b7ebef734d1586ae94461a63a356",
       "version_major": 2,
       "version_minor": 0
      },
      "text/plain": [
       "Training:   0%|          | 0/18 [00:00<?, ?it/s]"
      ]
     },
     "metadata": {},
     "output_type": "display_data"
    },
    {
     "data": {
      "application/vnd.jupyter.widget-view+json": {
       "model_id": "16005f3a5afe41ccaa30d6ea8911cd0e",
       "version_major": 2,
       "version_minor": 0
      },
      "text/plain": [
       "Evaluating:   0%|          | 0/5 [00:00<?, ?it/s]"
      ]
     },
     "metadata": {},
     "output_type": "display_data"
    },
    {
     "data": {
      "application/vnd.jupyter.widget-view+json": {
       "model_id": "5c355a14e7374c6ca877df2832fc749b",
       "version_major": 2,
       "version_minor": 0
      },
      "text/plain": [
       "Training:   0%|          | 0/18 [00:00<?, ?it/s]"
      ]
     },
     "metadata": {},
     "output_type": "display_data"
    },
    {
     "data": {
      "application/vnd.jupyter.widget-view+json": {
       "model_id": "fba738b0dab64e809cf2374686eb1dc8",
       "version_major": 2,
       "version_minor": 0
      },
      "text/plain": [
       "Evaluating:   0%|          | 0/5 [00:00<?, ?it/s]"
      ]
     },
     "metadata": {},
     "output_type": "display_data"
    },
    {
     "data": {
      "application/vnd.jupyter.widget-view+json": {
       "model_id": "e0be3e1894364550a4d030fb1f71000b",
       "version_major": 2,
       "version_minor": 0
      },
      "text/plain": [
       "Training:   0%|          | 0/18 [00:00<?, ?it/s]"
      ]
     },
     "metadata": {},
     "output_type": "display_data"
    },
    {
     "data": {
      "application/vnd.jupyter.widget-view+json": {
       "model_id": "3db31400b3cf4df6955308259c915e34",
       "version_major": 2,
       "version_minor": 0
      },
      "text/plain": [
       "Evaluating:   0%|          | 0/5 [00:00<?, ?it/s]"
      ]
     },
     "metadata": {},
     "output_type": "display_data"
    },
    {
     "name": "stdout",
     "output_type": "stream",
     "text": [
      "Epoch 020/100 | Loss: 0.0089 | Val Acc: 0.8844 | Val F1: 0.7593 | Val AUC: 0.8572\n"
     ]
    },
    {
     "data": {
      "application/vnd.jupyter.widget-view+json": {
       "model_id": "c1742efec3c74f72a1cbf1ff385c6492",
       "version_major": 2,
       "version_minor": 0
      },
      "text/plain": [
       "Training:   0%|          | 0/18 [00:00<?, ?it/s]"
      ]
     },
     "metadata": {},
     "output_type": "display_data"
    },
    {
     "data": {
      "application/vnd.jupyter.widget-view+json": {
       "model_id": "93138394a5b544f39097f99653779263",
       "version_major": 2,
       "version_minor": 0
      },
      "text/plain": [
       "Evaluating:   0%|          | 0/5 [00:00<?, ?it/s]"
      ]
     },
     "metadata": {},
     "output_type": "display_data"
    },
    {
     "data": {
      "application/vnd.jupyter.widget-view+json": {
       "model_id": "043223a971004088a2f3cd5b1876941a",
       "version_major": 2,
       "version_minor": 0
      },
      "text/plain": [
       "Training:   0%|          | 0/18 [00:00<?, ?it/s]"
      ]
     },
     "metadata": {},
     "output_type": "display_data"
    },
    {
     "data": {
      "application/vnd.jupyter.widget-view+json": {
       "model_id": "d49a1624a5644ac9ab304f92bd5e522f",
       "version_major": 2,
       "version_minor": 0
      },
      "text/plain": [
       "Evaluating:   0%|          | 0/5 [00:00<?, ?it/s]"
      ]
     },
     "metadata": {},
     "output_type": "display_data"
    },
    {
     "data": {
      "application/vnd.jupyter.widget-view+json": {
       "model_id": "69a4583ba6a84549b3ea3737e954ce52",
       "version_major": 2,
       "version_minor": 0
      },
      "text/plain": [
       "Training:   0%|          | 0/18 [00:00<?, ?it/s]"
      ]
     },
     "metadata": {},
     "output_type": "display_data"
    },
    {
     "data": {
      "application/vnd.jupyter.widget-view+json": {
       "model_id": "79519e81619d44fab87182c9251e1569",
       "version_major": 2,
       "version_minor": 0
      },
      "text/plain": [
       "Evaluating:   0%|          | 0/5 [00:00<?, ?it/s]"
      ]
     },
     "metadata": {},
     "output_type": "display_data"
    },
    {
     "data": {
      "application/vnd.jupyter.widget-view+json": {
       "model_id": "d847cd923a64454d992e5a21b287e306",
       "version_major": 2,
       "version_minor": 0
      },
      "text/plain": [
       "Training:   0%|          | 0/18 [00:00<?, ?it/s]"
      ]
     },
     "metadata": {},
     "output_type": "display_data"
    },
    {
     "data": {
      "application/vnd.jupyter.widget-view+json": {
       "model_id": "87b3433d3f084d02846b28d393d92442",
       "version_major": 2,
       "version_minor": 0
      },
      "text/plain": [
       "Evaluating:   0%|          | 0/5 [00:00<?, ?it/s]"
      ]
     },
     "metadata": {},
     "output_type": "display_data"
    },
    {
     "data": {
      "application/vnd.jupyter.widget-view+json": {
       "model_id": "e13f6ab3b8064682a004f88396126c84",
       "version_major": 2,
       "version_minor": 0
      },
      "text/plain": [
       "Training:   0%|          | 0/18 [00:00<?, ?it/s]"
      ]
     },
     "metadata": {},
     "output_type": "display_data"
    },
    {
     "data": {
      "application/vnd.jupyter.widget-view+json": {
       "model_id": "0b149f705c384820a89000a6531e92b0",
       "version_major": 2,
       "version_minor": 0
      },
      "text/plain": [
       "Evaluating:   0%|          | 0/5 [00:00<?, ?it/s]"
      ]
     },
     "metadata": {},
     "output_type": "display_data"
    },
    {
     "name": "stdout",
     "output_type": "stream",
     "text": [
      "Epoch 025/100 | Loss: 0.0088 | Val Acc: 0.8800 | Val F1: 0.7523 | Val AUC: 0.8593\n"
     ]
    },
    {
     "data": {
      "application/vnd.jupyter.widget-view+json": {
       "model_id": "6f3a9d433e43489ba24d124089bc6cb8",
       "version_major": 2,
       "version_minor": 0
      },
      "text/plain": [
       "Training:   0%|          | 0/18 [00:00<?, ?it/s]"
      ]
     },
     "metadata": {},
     "output_type": "display_data"
    },
    {
     "data": {
      "application/vnd.jupyter.widget-view+json": {
       "model_id": "4ef0e9fb86304d88867263ba171a74e6",
       "version_major": 2,
       "version_minor": 0
      },
      "text/plain": [
       "Evaluating:   0%|          | 0/5 [00:00<?, ?it/s]"
      ]
     },
     "metadata": {},
     "output_type": "display_data"
    },
    {
     "name": "stdout",
     "output_type": "stream",
     "text": [
      "\n",
      "⏹️ Early stopping at epoch 26\n"
     ]
    },
    {
     "data": {
      "application/vnd.jupyter.widget-view+json": {
       "model_id": "9148b844977d43328cae8c718b3bc1ea",
       "version_major": 2,
       "version_minor": 0
      },
      "text/plain": [
       "Evaluating:   0%|          | 0/6 [00:00<?, ?it/s]"
      ]
     },
     "metadata": {},
     "output_type": "display_data"
    },
    {
     "name": "stdout",
     "output_type": "stream",
     "text": [
      "\n",
      "📊 Test Results:\n",
      "   Accuracy: 0.7468\n",
      "   Precision: 0.7905\n",
      "   Recall: 0.4432\n",
      "   F1 Score: 0.5680\n",
      "   AUC: 0.6922\n",
      "   AP: 0.6890\n",
      "\n",
      "GatedFusion: 511,362 parameters\n",
      "\n",
      "======================================================================\n",
      "Training GatedFusion\n",
      "======================================================================\n"
     ]
    },
    {
     "data": {
      "application/vnd.jupyter.widget-view+json": {
       "model_id": "df6ace2efcb745b48ba8bd5bfe862f90",
       "version_major": 2,
       "version_minor": 0
      },
      "text/plain": [
       "Training:   0%|          | 0/18 [00:00<?, ?it/s]"
      ]
     },
     "metadata": {},
     "output_type": "display_data"
    },
    {
     "data": {
      "application/vnd.jupyter.widget-view+json": {
       "model_id": "c15148e2ddf441fa8fcd743111e1aa48",
       "version_major": 2,
       "version_minor": 0
      },
      "text/plain": [
       "Evaluating:   0%|          | 0/5 [00:00<?, ?it/s]"
      ]
     },
     "metadata": {},
     "output_type": "display_data"
    },
    {
     "name": "stdout",
     "output_type": "stream",
     "text": [
      "Epoch 001/100 | Loss: 0.0715 | Val Acc: 0.8898 | Val F1: 0.7652 | Val AUC: 0.8930\n"
     ]
    },
    {
     "data": {
      "application/vnd.jupyter.widget-view+json": {
       "model_id": "402d440594994e768c738324e3f2630e",
       "version_major": 2,
       "version_minor": 0
      },
      "text/plain": [
       "Training:   0%|          | 0/18 [00:00<?, ?it/s]"
      ]
     },
     "metadata": {},
     "output_type": "display_data"
    },
    {
     "data": {
      "application/vnd.jupyter.widget-view+json": {
       "model_id": "3b6ec9ba8d1d4cfd8173beb181efcdeb",
       "version_major": 2,
       "version_minor": 0
      },
      "text/plain": [
       "Evaluating:   0%|          | 0/5 [00:00<?, ?it/s]"
      ]
     },
     "metadata": {},
     "output_type": "display_data"
    },
    {
     "data": {
      "application/vnd.jupyter.widget-view+json": {
       "model_id": "6d0fa0278bb94d07bfa0fa556334c823",
       "version_major": 2,
       "version_minor": 0
      },
      "text/plain": [
       "Training:   0%|          | 0/18 [00:00<?, ?it/s]"
      ]
     },
     "metadata": {},
     "output_type": "display_data"
    },
    {
     "data": {
      "application/vnd.jupyter.widget-view+json": {
       "model_id": "5b79a251a85d4edcb20c6feafe2b6220",
       "version_major": 2,
       "version_minor": 0
      },
      "text/plain": [
       "Evaluating:   0%|          | 0/5 [00:00<?, ?it/s]"
      ]
     },
     "metadata": {},
     "output_type": "display_data"
    },
    {
     "data": {
      "application/vnd.jupyter.widget-view+json": {
       "model_id": "617ef8d1d1714f6a802250ef3d049af5",
       "version_major": 2,
       "version_minor": 0
      },
      "text/plain": [
       "Training:   0%|          | 0/18 [00:00<?, ?it/s]"
      ]
     },
     "metadata": {},
     "output_type": "display_data"
    },
    {
     "data": {
      "application/vnd.jupyter.widget-view+json": {
       "model_id": "602e9202d523465dac12e7d74e60e793",
       "version_major": 2,
       "version_minor": 0
      },
      "text/plain": [
       "Evaluating:   0%|          | 0/5 [00:00<?, ?it/s]"
      ]
     },
     "metadata": {},
     "output_type": "display_data"
    },
    {
     "data": {
      "application/vnd.jupyter.widget-view+json": {
       "model_id": "8f92d34c6731465ebb7fba426edb572c",
       "version_major": 2,
       "version_minor": 0
      },
      "text/plain": [
       "Training:   0%|          | 0/18 [00:00<?, ?it/s]"
      ]
     },
     "metadata": {},
     "output_type": "display_data"
    },
    {
     "data": {
      "application/vnd.jupyter.widget-view+json": {
       "model_id": "f0b4c1b866ae4267a8174302295f1cf5",
       "version_major": 2,
       "version_minor": 0
      },
      "text/plain": [
       "Evaluating:   0%|          | 0/5 [00:00<?, ?it/s]"
      ]
     },
     "metadata": {},
     "output_type": "display_data"
    },
    {
     "name": "stdout",
     "output_type": "stream",
     "text": [
      "Epoch 005/100 | Loss: 0.0138 | Val Acc: 0.8791 | Val F1: 0.7527 | Val AUC: 0.8857\n"
     ]
    },
    {
     "data": {
      "application/vnd.jupyter.widget-view+json": {
       "model_id": "3d95365da68b4181b51da8c7bbcec2a2",
       "version_major": 2,
       "version_minor": 0
      },
      "text/plain": [
       "Training:   0%|          | 0/18 [00:00<?, ?it/s]"
      ]
     },
     "metadata": {},
     "output_type": "display_data"
    },
    {
     "data": {
      "application/vnd.jupyter.widget-view+json": {
       "model_id": "2b0cd6a037564e04b1177f5966bdf786",
       "version_major": 2,
       "version_minor": 0
      },
      "text/plain": [
       "Evaluating:   0%|          | 0/5 [00:00<?, ?it/s]"
      ]
     },
     "metadata": {},
     "output_type": "display_data"
    },
    {
     "data": {
      "application/vnd.jupyter.widget-view+json": {
       "model_id": "0743f3f0bc4b452c9929762d64794a8c",
       "version_major": 2,
       "version_minor": 0
      },
      "text/plain": [
       "Training:   0%|          | 0/18 [00:00<?, ?it/s]"
      ]
     },
     "metadata": {},
     "output_type": "display_data"
    },
    {
     "data": {
      "application/vnd.jupyter.widget-view+json": {
       "model_id": "2bfe848c58964736a56195ed4489ee71",
       "version_major": 2,
       "version_minor": 0
      },
      "text/plain": [
       "Evaluating:   0%|          | 0/5 [00:00<?, ?it/s]"
      ]
     },
     "metadata": {},
     "output_type": "display_data"
    },
    {
     "data": {
      "application/vnd.jupyter.widget-view+json": {
       "model_id": "f2b0388484234adcb16314e013b28001",
       "version_major": 2,
       "version_minor": 0
      },
      "text/plain": [
       "Training:   0%|          | 0/18 [00:00<?, ?it/s]"
      ]
     },
     "metadata": {},
     "output_type": "display_data"
    },
    {
     "data": {
      "application/vnd.jupyter.widget-view+json": {
       "model_id": "0d6ada216ac843f598e5d10378960c67",
       "version_major": 2,
       "version_minor": 0
      },
      "text/plain": [
       "Evaluating:   0%|          | 0/5 [00:00<?, ?it/s]"
      ]
     },
     "metadata": {},
     "output_type": "display_data"
    },
    {
     "data": {
      "application/vnd.jupyter.widget-view+json": {
       "model_id": "8010a03ab31e47778b7fd4501cbc7128",
       "version_major": 2,
       "version_minor": 0
      },
      "text/plain": [
       "Training:   0%|          | 0/18 [00:00<?, ?it/s]"
      ]
     },
     "metadata": {},
     "output_type": "display_data"
    },
    {
     "data": {
      "application/vnd.jupyter.widget-view+json": {
       "model_id": "a13741642e1c4a82b43064707a05e086",
       "version_major": 2,
       "version_minor": 0
      },
      "text/plain": [
       "Evaluating:   0%|          | 0/5 [00:00<?, ?it/s]"
      ]
     },
     "metadata": {},
     "output_type": "display_data"
    },
    {
     "data": {
      "application/vnd.jupyter.widget-view+json": {
       "model_id": "def08254b1a44229832b818ba11c539e",
       "version_major": 2,
       "version_minor": 0
      },
      "text/plain": [
       "Training:   0%|          | 0/18 [00:00<?, ?it/s]"
      ]
     },
     "metadata": {},
     "output_type": "display_data"
    },
    {
     "data": {
      "application/vnd.jupyter.widget-view+json": {
       "model_id": "13cc97ca56fe4f32836daad6b710492d",
       "version_major": 2,
       "version_minor": 0
      },
      "text/plain": [
       "Evaluating:   0%|          | 0/5 [00:00<?, ?it/s]"
      ]
     },
     "metadata": {},
     "output_type": "display_data"
    },
    {
     "name": "stdout",
     "output_type": "stream",
     "text": [
      "Epoch 010/100 | Loss: 0.0080 | Val Acc: 0.8818 | Val F1: 0.7569 | Val AUC: 0.8797\n"
     ]
    },
    {
     "data": {
      "application/vnd.jupyter.widget-view+json": {
       "model_id": "f865a93838e84238b2b27e768d36b695",
       "version_major": 2,
       "version_minor": 0
      },
      "text/plain": [
       "Training:   0%|          | 0/18 [00:00<?, ?it/s]"
      ]
     },
     "metadata": {},
     "output_type": "display_data"
    },
    {
     "data": {
      "application/vnd.jupyter.widget-view+json": {
       "model_id": "8597fe3dcbb948f3826d44bda1121baf",
       "version_major": 2,
       "version_minor": 0
      },
      "text/plain": [
       "Evaluating:   0%|          | 0/5 [00:00<?, ?it/s]"
      ]
     },
     "metadata": {},
     "output_type": "display_data"
    },
    {
     "data": {
      "application/vnd.jupyter.widget-view+json": {
       "model_id": "a1a00d0b340e448ea28702ef37b669f1",
       "version_major": 2,
       "version_minor": 0
      },
      "text/plain": [
       "Training:   0%|          | 0/18 [00:00<?, ?it/s]"
      ]
     },
     "metadata": {},
     "output_type": "display_data"
    },
    {
     "data": {
      "application/vnd.jupyter.widget-view+json": {
       "model_id": "1cf11e6e47674c408dc6422c3f3b6a0f",
       "version_major": 2,
       "version_minor": 0
      },
      "text/plain": [
       "Evaluating:   0%|          | 0/5 [00:00<?, ?it/s]"
      ]
     },
     "metadata": {},
     "output_type": "display_data"
    },
    {
     "data": {
      "application/vnd.jupyter.widget-view+json": {
       "model_id": "604672d81e344126903ffce5f0a1dc9b",
       "version_major": 2,
       "version_minor": 0
      },
      "text/plain": [
       "Training:   0%|          | 0/18 [00:00<?, ?it/s]"
      ]
     },
     "metadata": {},
     "output_type": "display_data"
    },
    {
     "data": {
      "application/vnd.jupyter.widget-view+json": {
       "model_id": "429fc734bdd84a1f987bbae80b77dac4",
       "version_major": 2,
       "version_minor": 0
      },
      "text/plain": [
       "Evaluating:   0%|          | 0/5 [00:00<?, ?it/s]"
      ]
     },
     "metadata": {},
     "output_type": "display_data"
    },
    {
     "data": {
      "application/vnd.jupyter.widget-view+json": {
       "model_id": "80c07aceeff7419f956d2c3dd9fc2cc9",
       "version_major": 2,
       "version_minor": 0
      },
      "text/plain": [
       "Training:   0%|          | 0/18 [00:00<?, ?it/s]"
      ]
     },
     "metadata": {},
     "output_type": "display_data"
    },
    {
     "data": {
      "application/vnd.jupyter.widget-view+json": {
       "model_id": "64830d729e3544649e20b28a9d300742",
       "version_major": 2,
       "version_minor": 0
      },
      "text/plain": [
       "Evaluating:   0%|          | 0/5 [00:00<?, ?it/s]"
      ]
     },
     "metadata": {},
     "output_type": "display_data"
    },
    {
     "data": {
      "application/vnd.jupyter.widget-view+json": {
       "model_id": "894de08f3e2f4a1598cfd0d574388166",
       "version_major": 2,
       "version_minor": 0
      },
      "text/plain": [
       "Training:   0%|          | 0/18 [00:00<?, ?it/s]"
      ]
     },
     "metadata": {},
     "output_type": "display_data"
    },
    {
     "data": {
      "application/vnd.jupyter.widget-view+json": {
       "model_id": "8284b5164f8d4f299cd4d4e523ac9605",
       "version_major": 2,
       "version_minor": 0
      },
      "text/plain": [
       "Evaluating:   0%|          | 0/5 [00:00<?, ?it/s]"
      ]
     },
     "metadata": {},
     "output_type": "display_data"
    },
    {
     "name": "stdout",
     "output_type": "stream",
     "text": [
      "Epoch 015/100 | Loss: 0.0073 | Val Acc: 0.8827 | Val F1: 0.7582 | Val AUC: 0.8790\n"
     ]
    },
    {
     "data": {
      "application/vnd.jupyter.widget-view+json": {
       "model_id": "7921376ad6b9438690ecd5d0b2981aa0",
       "version_major": 2,
       "version_minor": 0
      },
      "text/plain": [
       "Training:   0%|          | 0/18 [00:00<?, ?it/s]"
      ]
     },
     "metadata": {},
     "output_type": "display_data"
    },
    {
     "data": {
      "application/vnd.jupyter.widget-view+json": {
       "model_id": "fdb947d120a44846a2dda262b455b417",
       "version_major": 2,
       "version_minor": 0
      },
      "text/plain": [
       "Evaluating:   0%|          | 0/5 [00:00<?, ?it/s]"
      ]
     },
     "metadata": {},
     "output_type": "display_data"
    },
    {
     "name": "stdout",
     "output_type": "stream",
     "text": [
      "\n",
      "⏹️ Early stopping at epoch 16\n"
     ]
    },
    {
     "data": {
      "application/vnd.jupyter.widget-view+json": {
       "model_id": "77340d35154a4af1a1389fb41b888891",
       "version_major": 2,
       "version_minor": 0
      },
      "text/plain": [
       "Evaluating:   0%|          | 0/6 [00:00<?, ?it/s]"
      ]
     },
     "metadata": {},
     "output_type": "display_data"
    },
    {
     "name": "stdout",
     "output_type": "stream",
     "text": [
      "\n",
      "📊 Test Results:\n",
      "   Accuracy: 0.7468\n",
      "   Precision: 0.8028\n",
      "   Recall: 0.4318\n",
      "   F1 Score: 0.5616\n",
      "   AUC: 0.7248\n",
      "   AP: 0.6802\n",
      "\n",
      "CrossModalFusion: 841,602 parameters\n",
      "\n",
      "======================================================================\n",
      "Training CrossModalFusion\n",
      "======================================================================\n"
     ]
    },
    {
     "data": {
      "application/vnd.jupyter.widget-view+json": {
       "model_id": "7678cc2da5364f50bf6d9e1cde887cd3",
       "version_major": 2,
       "version_minor": 0
      },
      "text/plain": [
       "Training:   0%|          | 0/18 [00:00<?, ?it/s]"
      ]
     },
     "metadata": {},
     "output_type": "display_data"
    },
    {
     "data": {
      "application/vnd.jupyter.widget-view+json": {
       "model_id": "e05266e62cee436db4f713d75f891c40",
       "version_major": 2,
       "version_minor": 0
      },
      "text/plain": [
       "Evaluating:   0%|          | 0/5 [00:00<?, ?it/s]"
      ]
     },
     "metadata": {},
     "output_type": "display_data"
    },
    {
     "name": "stdout",
     "output_type": "stream",
     "text": [
      "Epoch 001/100 | Loss: 0.0749 | Val Acc: 0.8836 | Val F1: 0.7579 | Val AUC: 0.8872\n"
     ]
    },
    {
     "data": {
      "application/vnd.jupyter.widget-view+json": {
       "model_id": "6640962a086f430bb4695015e1a89269",
       "version_major": 2,
       "version_minor": 0
      },
      "text/plain": [
       "Training:   0%|          | 0/18 [00:00<?, ?it/s]"
      ]
     },
     "metadata": {},
     "output_type": "display_data"
    },
    {
     "data": {
      "application/vnd.jupyter.widget-view+json": {
       "model_id": "fcc2ea057fc14ba49ba4d39a118fbb9f",
       "version_major": 2,
       "version_minor": 0
      },
      "text/plain": [
       "Evaluating:   0%|          | 0/5 [00:00<?, ?it/s]"
      ]
     },
     "metadata": {},
     "output_type": "display_data"
    },
    {
     "data": {
      "application/vnd.jupyter.widget-view+json": {
       "model_id": "196b42217b5d4fd78149a3567adb82b2",
       "version_major": 2,
       "version_minor": 0
      },
      "text/plain": [
       "Training:   0%|          | 0/18 [00:00<?, ?it/s]"
      ]
     },
     "metadata": {},
     "output_type": "display_data"
    },
    {
     "data": {
      "application/vnd.jupyter.widget-view+json": {
       "model_id": "b5eb96ec47e141819def855b60fd73ce",
       "version_major": 2,
       "version_minor": 0
      },
      "text/plain": [
       "Evaluating:   0%|          | 0/5 [00:00<?, ?it/s]"
      ]
     },
     "metadata": {},
     "output_type": "display_data"
    },
    {
     "data": {
      "application/vnd.jupyter.widget-view+json": {
       "model_id": "a230a79d28f34313a8c1aeb3aec46712",
       "version_major": 2,
       "version_minor": 0
      },
      "text/plain": [
       "Training:   0%|          | 0/18 [00:00<?, ?it/s]"
      ]
     },
     "metadata": {},
     "output_type": "display_data"
    },
    {
     "data": {
      "application/vnd.jupyter.widget-view+json": {
       "model_id": "5e3a9855052b4e25b1f4de6accd16cba",
       "version_major": 2,
       "version_minor": 0
      },
      "text/plain": [
       "Evaluating:   0%|          | 0/5 [00:00<?, ?it/s]"
      ]
     },
     "metadata": {},
     "output_type": "display_data"
    },
    {
     "data": {
      "application/vnd.jupyter.widget-view+json": {
       "model_id": "dea368b416b841079b748a6c8d08feab",
       "version_major": 2,
       "version_minor": 0
      },
      "text/plain": [
       "Training:   0%|          | 0/18 [00:00<?, ?it/s]"
      ]
     },
     "metadata": {},
     "output_type": "display_data"
    },
    {
     "data": {
      "application/vnd.jupyter.widget-view+json": {
       "model_id": "8dd8bd6cc0a24b1a82dba39345272308",
       "version_major": 2,
       "version_minor": 0
      },
      "text/plain": [
       "Evaluating:   0%|          | 0/5 [00:00<?, ?it/s]"
      ]
     },
     "metadata": {},
     "output_type": "display_data"
    },
    {
     "name": "stdout",
     "output_type": "stream",
     "text": [
      "Epoch 005/100 | Loss: 0.0139 | Val Acc: 0.8738 | Val F1: 0.7500 | Val AUC: 0.8970\n"
     ]
    },
    {
     "data": {
      "application/vnd.jupyter.widget-view+json": {
       "model_id": "a95b161f5ac743f2bb1348cc51cafd1f",
       "version_major": 2,
       "version_minor": 0
      },
      "text/plain": [
       "Training:   0%|          | 0/18 [00:00<?, ?it/s]"
      ]
     },
     "metadata": {},
     "output_type": "display_data"
    },
    {
     "data": {
      "application/vnd.jupyter.widget-view+json": {
       "model_id": "35cb4a21a5394bae90327ef392a44f23",
       "version_major": 2,
       "version_minor": 0
      },
      "text/plain": [
       "Evaluating:   0%|          | 0/5 [00:00<?, ?it/s]"
      ]
     },
     "metadata": {},
     "output_type": "display_data"
    },
    {
     "data": {
      "application/vnd.jupyter.widget-view+json": {
       "model_id": "0595508e64b64d26a6048b60f313b2b7",
       "version_major": 2,
       "version_minor": 0
      },
      "text/plain": [
       "Training:   0%|          | 0/18 [00:00<?, ?it/s]"
      ]
     },
     "metadata": {},
     "output_type": "display_data"
    },
    {
     "data": {
      "application/vnd.jupyter.widget-view+json": {
       "model_id": "6f02ec7234494dab9ea97afb8ea031f3",
       "version_major": 2,
       "version_minor": 0
      },
      "text/plain": [
       "Evaluating:   0%|          | 0/5 [00:00<?, ?it/s]"
      ]
     },
     "metadata": {},
     "output_type": "display_data"
    },
    {
     "data": {
      "application/vnd.jupyter.widget-view+json": {
       "model_id": "5baac9ae32544f9b8cf19583ea13f1c9",
       "version_major": 2,
       "version_minor": 0
      },
      "text/plain": [
       "Training:   0%|          | 0/18 [00:00<?, ?it/s]"
      ]
     },
     "metadata": {},
     "output_type": "display_data"
    },
    {
     "data": {
      "application/vnd.jupyter.widget-view+json": {
       "model_id": "647e348c11f14bb1bf9450df98970cc2",
       "version_major": 2,
       "version_minor": 0
      },
      "text/plain": [
       "Evaluating:   0%|          | 0/5 [00:00<?, ?it/s]"
      ]
     },
     "metadata": {},
     "output_type": "display_data"
    },
    {
     "data": {
      "application/vnd.jupyter.widget-view+json": {
       "model_id": "eee1af54d978490c9a7884f46b7305d8",
       "version_major": 2,
       "version_minor": 0
      },
      "text/plain": [
       "Training:   0%|          | 0/18 [00:00<?, ?it/s]"
      ]
     },
     "metadata": {},
     "output_type": "display_data"
    },
    {
     "data": {
      "application/vnd.jupyter.widget-view+json": {
       "model_id": "b970a117c19844c5af6737a97b6bf25c",
       "version_major": 2,
       "version_minor": 0
      },
      "text/plain": [
       "Evaluating:   0%|          | 0/5 [00:00<?, ?it/s]"
      ]
     },
     "metadata": {},
     "output_type": "display_data"
    },
    {
     "data": {
      "application/vnd.jupyter.widget-view+json": {
       "model_id": "d2ca929fdacf4082865aa03dccfb5a97",
       "version_major": 2,
       "version_minor": 0
      },
      "text/plain": [
       "Training:   0%|          | 0/18 [00:00<?, ?it/s]"
      ]
     },
     "metadata": {},
     "output_type": "display_data"
    },
    {
     "data": {
      "application/vnd.jupyter.widget-view+json": {
       "model_id": "44fa0baafb7d4a338ba4ef3dbb11d766",
       "version_major": 2,
       "version_minor": 0
      },
      "text/plain": [
       "Evaluating:   0%|          | 0/5 [00:00<?, ?it/s]"
      ]
     },
     "metadata": {},
     "output_type": "display_data"
    },
    {
     "name": "stdout",
     "output_type": "stream",
     "text": [
      "Epoch 010/100 | Loss: 0.0116 | Val Acc: 0.8800 | Val F1: 0.7550 | Val AUC: 0.8951\n"
     ]
    },
    {
     "data": {
      "application/vnd.jupyter.widget-view+json": {
       "model_id": "fc5dbea3b7884ccb86d9ca604f8ea754",
       "version_major": 2,
       "version_minor": 0
      },
      "text/plain": [
       "Training:   0%|          | 0/18 [00:00<?, ?it/s]"
      ]
     },
     "metadata": {},
     "output_type": "display_data"
    },
    {
     "data": {
      "application/vnd.jupyter.widget-view+json": {
       "model_id": "7cc2d6b68ecb4974a692d72e92e720e2",
       "version_major": 2,
       "version_minor": 0
      },
      "text/plain": [
       "Evaluating:   0%|          | 0/5 [00:00<?, ?it/s]"
      ]
     },
     "metadata": {},
     "output_type": "display_data"
    },
    {
     "data": {
      "application/vnd.jupyter.widget-view+json": {
       "model_id": "ea27ae58b743484fa921a0e03b69ab22",
       "version_major": 2,
       "version_minor": 0
      },
      "text/plain": [
       "Training:   0%|          | 0/18 [00:00<?, ?it/s]"
      ]
     },
     "metadata": {},
     "output_type": "display_data"
    },
    {
     "data": {
      "application/vnd.jupyter.widget-view+json": {
       "model_id": "1f86fdd5123c4f5ca070c6929295201d",
       "version_major": 2,
       "version_minor": 0
      },
      "text/plain": [
       "Evaluating:   0%|          | 0/5 [00:00<?, ?it/s]"
      ]
     },
     "metadata": {},
     "output_type": "display_data"
    },
    {
     "data": {
      "application/vnd.jupyter.widget-view+json": {
       "model_id": "7b10936d589f4d68aa3eae08ad1bf080",
       "version_major": 2,
       "version_minor": 0
      },
      "text/plain": [
       "Training:   0%|          | 0/18 [00:00<?, ?it/s]"
      ]
     },
     "metadata": {},
     "output_type": "display_data"
    },
    {
     "data": {
      "application/vnd.jupyter.widget-view+json": {
       "model_id": "c91e99e683fb44ba9e39d1c89916ad91",
       "version_major": 2,
       "version_minor": 0
      },
      "text/plain": [
       "Evaluating:   0%|          | 0/5 [00:00<?, ?it/s]"
      ]
     },
     "metadata": {},
     "output_type": "display_data"
    },
    {
     "data": {
      "application/vnd.jupyter.widget-view+json": {
       "model_id": "bead347d039145f7a0579113522e3d9e",
       "version_major": 2,
       "version_minor": 0
      },
      "text/plain": [
       "Training:   0%|          | 0/18 [00:00<?, ?it/s]"
      ]
     },
     "metadata": {},
     "output_type": "display_data"
    },
    {
     "data": {
      "application/vnd.jupyter.widget-view+json": {
       "model_id": "5ff6b2ad45a84fc9ac4f34c14847e3b0",
       "version_major": 2,
       "version_minor": 0
      },
      "text/plain": [
       "Evaluating:   0%|          | 0/5 [00:00<?, ?it/s]"
      ]
     },
     "metadata": {},
     "output_type": "display_data"
    },
    {
     "data": {
      "application/vnd.jupyter.widget-view+json": {
       "model_id": "014a88104033490d8b55239427e0904c",
       "version_major": 2,
       "version_minor": 0
      },
      "text/plain": [
       "Training:   0%|          | 0/18 [00:00<?, ?it/s]"
      ]
     },
     "metadata": {},
     "output_type": "display_data"
    },
    {
     "data": {
      "application/vnd.jupyter.widget-view+json": {
       "model_id": "55286e7434cb4bc28056940023fab2f5",
       "version_major": 2,
       "version_minor": 0
      },
      "text/plain": [
       "Evaluating:   0%|          | 0/5 [00:00<?, ?it/s]"
      ]
     },
     "metadata": {},
     "output_type": "display_data"
    },
    {
     "name": "stdout",
     "output_type": "stream",
     "text": [
      "Epoch 015/100 | Loss: 0.0101 | Val Acc: 0.8791 | Val F1: 0.7545 | Val AUC: 0.8926\n"
     ]
    },
    {
     "data": {
      "application/vnd.jupyter.widget-view+json": {
       "model_id": "e1334c7923da437da273c836d679f740",
       "version_major": 2,
       "version_minor": 0
      },
      "text/plain": [
       "Training:   0%|          | 0/18 [00:00<?, ?it/s]"
      ]
     },
     "metadata": {},
     "output_type": "display_data"
    },
    {
     "data": {
      "application/vnd.jupyter.widget-view+json": {
       "model_id": "f021366a4bec432bbf47f72ae5962b70",
       "version_major": 2,
       "version_minor": 0
      },
      "text/plain": [
       "Evaluating:   0%|          | 0/5 [00:00<?, ?it/s]"
      ]
     },
     "metadata": {},
     "output_type": "display_data"
    },
    {
     "data": {
      "application/vnd.jupyter.widget-view+json": {
       "model_id": "f2a61f622a7e4cd7ba24868f76b6029f",
       "version_major": 2,
       "version_minor": 0
      },
      "text/plain": [
       "Training:   0%|          | 0/18 [00:00<?, ?it/s]"
      ]
     },
     "metadata": {},
     "output_type": "display_data"
    },
    {
     "data": {
      "application/vnd.jupyter.widget-view+json": {
       "model_id": "82a712528d364854ac2b97aa64e99641",
       "version_major": 2,
       "version_minor": 0
      },
      "text/plain": [
       "Evaluating:   0%|          | 0/5 [00:00<?, ?it/s]"
      ]
     },
     "metadata": {},
     "output_type": "display_data"
    },
    {
     "data": {
      "application/vnd.jupyter.widget-view+json": {
       "model_id": "efc63b1ed86c4c72983c2cd02b37e2dc",
       "version_major": 2,
       "version_minor": 0
      },
      "text/plain": [
       "Training:   0%|          | 0/18 [00:00<?, ?it/s]"
      ]
     },
     "metadata": {},
     "output_type": "display_data"
    },
    {
     "data": {
      "application/vnd.jupyter.widget-view+json": {
       "model_id": "9f37740a7ef848d9b92bc31cb0597bcd",
       "version_major": 2,
       "version_minor": 0
      },
      "text/plain": [
       "Evaluating:   0%|          | 0/5 [00:00<?, ?it/s]"
      ]
     },
     "metadata": {},
     "output_type": "display_data"
    },
    {
     "name": "stdout",
     "output_type": "stream",
     "text": [
      "\n",
      "⏹️ Early stopping at epoch 18\n"
     ]
    },
    {
     "data": {
      "application/vnd.jupyter.widget-view+json": {
       "model_id": "6e4059d353144f4e9ae8d10f007a6c24",
       "version_major": 2,
       "version_minor": 0
      },
      "text/plain": [
       "Evaluating:   0%|          | 0/6 [00:00<?, ?it/s]"
      ]
     },
     "metadata": {},
     "output_type": "display_data"
    },
    {
     "name": "stdout",
     "output_type": "stream",
     "text": [
      "\n",
      "📊 Test Results:\n",
      "   Accuracy: 0.7489\n",
      "   Precision: 0.7907\n",
      "   Recall: 0.4508\n",
      "   F1 Score: 0.5742\n",
      "   AUC: 0.7699\n",
      "   AP: 0.7135\n",
      "\n",
      "======================================================================\n",
      "✅ ALL FUSION MODELS TRAINED\n",
      "======================================================================\n"
     ]
    }
   ],
   "source": [
    "# Clear GPU memory\n",
    "if torch.cuda.is_available():\n",
    "    torch.cuda.empty_cache()\n",
    "gc.collect()\n",
    "\n",
    "# Model configurations\n",
    "fusion_configs = [\n",
    "    {\n",
    "        'name': 'SimpleFusion',\n",
    "        'model': SimpleFusion(GNN_EMB_DIM, LSTM_EMB_DIM, hidden_dim=256, dropout=0.4),\n",
    "        'lr': 0.001,\n",
    "        'epochs': 100\n",
    "    },\n",
    "    {\n",
    "        'name': 'AttentionFusion',\n",
    "        'model': AttentionFusion(GNN_EMB_DIM, LSTM_EMB_DIM, hidden_dim=256, dropout=0.4),\n",
    "        'lr': 0.001,\n",
    "        'epochs': 100\n",
    "    },\n",
    "    {\n",
    "        'name': 'GatedFusion',\n",
    "        'model': GatedFusion(GNN_EMB_DIM, LSTM_EMB_DIM, hidden_dim=256, dropout=0.4),\n",
    "        'lr': 0.001,\n",
    "        'epochs': 100\n",
    "    },\n",
    "    {\n",
    "        'name': 'CrossModalFusion',\n",
    "        'model': CrossModalFusion(GNN_EMB_DIM, LSTM_EMB_DIM, hidden_dim=256, dropout=0.4, num_heads=4),\n",
    "        'lr': 0.001,\n",
    "        'epochs': 100\n",
    "    }\n",
    "]\n",
    "\n",
    "# Train all fusion models\n",
    "fusion_results = {}\n",
    "\n",
    "for config in fusion_configs:\n",
    "    model_name = config['name']\n",
    "    model = config['model'].to(device)\n",
    "    \n",
    "    # Count parameters\n",
    "    num_params = sum(p.numel() for p in model.parameters())\n",
    "    print(f'\\n{model_name}: {num_params:,} parameters')\n",
    "    \n",
    "    # Train model\n",
    "    result = train_fusion_model(\n",
    "        model=model,\n",
    "        train_loader=train_loader,\n",
    "        val_loader=val_loader,\n",
    "        test_loader=test_loader,\n",
    "        model_name=model_name,\n",
    "        epochs=config['epochs'],\n",
    "        lr=config['lr'],\n",
    "        patience=15,\n",
    "        device=device\n",
    "    )\n",
    "    \n",
    "    fusion_results[model_name] = result\n",
    "    \n",
    "    # Clear memory\n",
    "    if torch.cuda.is_available():\n",
    "        torch.cuda.empty_cache()\n",
    "    gc.collect()\n",
    "\n",
    "print('\\n' + '='*70)\n",
    "print('✅ ALL FUSION MODELS TRAINED')\n",
    "print('='*70)"
   ]
  },
  {
   "cell_type": "markdown",
   "id": "6897866a",
   "metadata": {},
   "source": [
    "## Results Analysis and Comparison"
   ]
  },
  {
   "cell_type": "code",
   "execution_count": 13,
   "id": "341d1f25",
   "metadata": {},
   "outputs": [
    {
     "name": "stdout",
     "output_type": "stream",
     "text": [
      "📊 Fusion Model Comparison:\n",
      "           Model  Accuracy  Precision   Recall       F1      AUC       AP  Train Time (s)  Epochs\n",
      "CrossModalFusion  0.748933   0.790698 0.450758 0.574186 0.769863 0.713546       39.062078      18\n",
      "    SimpleFusion  0.748222   0.791946 0.446970 0.571429 0.749372 0.703270       56.302227      16\n",
      " AttentionFusion  0.746799   0.790541 0.443182 0.567961 0.692220 0.688969       43.068479      26\n",
      "     GatedFusion  0.746799   0.802817 0.431818 0.561576 0.724803 0.680248       29.022663      16\n",
      "\n",
      "🏆 Best Fusion Model: CrossModalFusion (F1 = 0.5742)\n"
     ]
    }
   ],
   "source": [
    "# Create results dataframe\n",
    "results_data = []\n",
    "for model_name, result in fusion_results.items():\n",
    "    metrics = result['test_metrics']\n",
    "    results_data.append({\n",
    "        'Model': model_name,\n",
    "        'Accuracy': metrics['accuracy'],\n",
    "        'Precision': metrics['precision'],\n",
    "        'Recall': metrics['recall'],\n",
    "        'F1': metrics['f1'],\n",
    "        'AUC': metrics['auc'],\n",
    "        'AP': metrics['ap'],\n",
    "        'Train Time (s)': result['train_time'],\n",
    "        'Epochs': result['epochs']\n",
    "    })\n",
    "\n",
    "results_df = pd.DataFrame(results_data)\n",
    "results_df = results_df.sort_values('F1', ascending=False)\n",
    "\n",
    "print('📊 Fusion Model Comparison:')\n",
    "print(results_df.to_string(index=False))\n",
    "\n",
    "# Best fusion model\n",
    "best_fusion = results_df.iloc[0]['Model']\n",
    "best_f1 = results_df.iloc[0]['F1']\n",
    "print(f'\\n🏆 Best Fusion Model: {best_fusion} (F1 = {best_f1:.4f})')"
   ]
  },
  {
   "cell_type": "markdown",
   "id": "2f4e6a1a",
   "metadata": {},
   "source": [
    "## Comparison with Individual Models"
   ]
  },
  {
   "cell_type": "code",
   "execution_count": 14,
   "id": "8ac15a24",
   "metadata": {},
   "outputs": [
    {
     "name": "stdout",
     "output_type": "stream",
     "text": [
      "✅ Loaded GNN results for comparison\n",
      "✅ Loaded LSTM results for comparison\n",
      "\n",
      "======================================================================\n",
      "COMPLETE MODEL COMPARISON\n",
      "======================================================================\n",
      "                  Model  Accuracy  Precision   Recall       F1      AUC\n",
      "GNN (HybridGNN_L4_H320)  0.875594   0.000000 0.000000 0.680971 0.847514\n",
      "       CrossModalFusion  0.748933   0.790698 0.450758 0.574186 0.769863\n",
      "           SimpleFusion  0.748222   0.791946 0.446970 0.571429 0.749372\n",
      "        AttentionFusion  0.746799   0.790541 0.443182 0.567961 0.692220\n",
      "            GatedFusion  0.746799   0.802817 0.431818 0.561576 0.724803\n",
      " LSTM (LSTM_CNN_Hybrid)  0.827169   0.345013 1.000000 0.513026 0.995984\n"
     ]
    }
   ],
   "source": [
    "# Load individual model results if available\n",
    "comparison_data = results_data.copy()\n",
    "\n",
    "# Try to load GNN results\n",
    "gnn_results_file = RESULTS_PATH / 'gnn_kaggle_results.json'\n",
    "if not gnn_results_file.exists():\n",
    "    gnn_results_file = GNN_MODELS_PATH / 'gnn_kaggle_results.json'\n",
    "\n",
    "if gnn_results_file.exists():\n",
    "    with open(gnn_results_file, 'r') as f:\n",
    "        gnn_results = json.load(f)\n",
    "    \n",
    "    if gnn_results.get('best_model'):\n",
    "        best_gnn = gnn_results['best_model']\n",
    "        comparison_data.append({\n",
    "            'Model': f'GNN ({best_gnn[\"name\"]})',\n",
    "            'Accuracy': best_gnn['test_accuracy'],\n",
    "            'Precision': 0.0,\n",
    "            'Recall': 0.0,\n",
    "            'F1': best_gnn['test_f1'],\n",
    "            'AUC': best_gnn['test_auc'],\n",
    "            'AP': 0.0,\n",
    "            'Train Time (s)': 0.0,\n",
    "            'Epochs': 0\n",
    "        })\n",
    "    print('✅ Loaded GNN results for comparison')\n",
    "else:\n",
    "    print('⚠️ GNN results not found')\n",
    "\n",
    "# Try to load LSTM results\n",
    "lstm_results_file = RESULTS_PATH / 'lstm_results.json'\n",
    "if not lstm_results_file.exists():\n",
    "    lstm_results_file = LSTM_MODELS_PATH / 'lstm_results.json'\n",
    "\n",
    "if lstm_results_file.exists():\n",
    "    with open(lstm_results_file, 'r') as f:\n",
    "        lstm_results = json.load(f)\n",
    "    \n",
    "    if lstm_results.get('best_model'):\n",
    "        best_lstm = lstm_results['best_model']\n",
    "        comparison_data.append({\n",
    "            'Model': f'LSTM ({best_lstm[\"name\"]})',\n",
    "            'Accuracy': best_lstm['metrics']['accuracy'],\n",
    "            'Precision': best_lstm['metrics']['precision'],\n",
    "            'Recall': best_lstm['metrics']['recall'],\n",
    "            'F1': best_lstm['metrics']['f1'],\n",
    "            'AUC': best_lstm['metrics']['auc'],\n",
    "            'AP': best_lstm['metrics']['ap'],\n",
    "            'Train Time (s)': 0.0,\n",
    "            'Epochs': 0\n",
    "        })\n",
    "    print('✅ Loaded LSTM results for comparison')\n",
    "else:\n",
    "    print('⚠️ LSTM results not found')\n",
    "\n",
    "# Create comparison dataframe\n",
    "comparison_df = pd.DataFrame(comparison_data)\n",
    "comparison_df = comparison_df.sort_values('F1', ascending=False)\n",
    "\n",
    "print('\\n' + '='*70)\n",
    "print('COMPLETE MODEL COMPARISON')\n",
    "print('='*70)\n",
    "print(comparison_df[['Model', 'Accuracy', 'Precision', 'Recall', 'F1', 'AUC']].to_string(index=False))"
   ]
  },
  {
   "cell_type": "markdown",
   "id": "8d0e2d88",
   "metadata": {},
   "source": [
    "## Visualization"
   ]
  },
  {
   "cell_type": "code",
   "execution_count": 15,
   "id": "e5510dca",
   "metadata": {},
   "outputs": [
    {
     "data": {
      "image/png": "[encoded data removed]",
      "text/plain": [
       "<Figure size 1500x500 with 2 Axes>"
      ]
     },
     "metadata": {},
     "output_type": "display_data"
    },
    {
     "name": "stdout",
     "output_type": "stream",
     "text": [
      "✅ Comparison chart saved to: C:\\Users\\youss\\Downloads\\Flag_finance\\data\\results\\fusion_comparison.png\n"
     ]
    }
   ],
   "source": [
    "# Performance comparison chart\n",
    "fig, axes = plt.subplots(1, 2, figsize=(15, 5))\n",
    "\n",
    "# Metrics comparison\n",
    "metrics_to_plot = ['Accuracy', 'Precision', 'Recall', 'F1', 'AUC']\n",
    "x = np.arange(len(comparison_df))\n",
    "width = 0.15\n",
    "\n",
    "for i, metric in enumerate(metrics_to_plot):\n",
    "    axes[0].bar(x + i*width, comparison_df[metric], width, label=metric, alpha=0.8)\n",
    "\n",
    "axes[0].set_xlabel('Model', fontsize=12)\n",
    "axes[0].set_ylabel('Score', fontsize=12)\n",
    "axes[0].set_title('Performance Comparison: Fusion vs Individual Models', fontsize=14, fontweight='bold')\n",
    "axes[0].set_xticks(x + width * 2)\n",
    "axes[0].set_xticklabels(comparison_df['Model'], rotation=45, ha='right')\n",
    "axes[0].legend()\n",
    "axes[0].grid(True, alpha=0.3, axis='y')\n",
    "axes[0].set_ylim([0, 1])\n",
    "\n",
    "# F1 Score comparison\n",
    "axes[1].barh(comparison_df['Model'], comparison_df['F1'], color='steelblue', alpha=0.8)\n",
    "axes[1].set_xlabel('F1 Score', fontsize=12)\n",
    "axes[1].set_title('F1 Score Ranking', fontsize=14, fontweight='bold')\n",
    "axes[1].grid(True, alpha=0.3, axis='x')\n",
    "\n",
    "for i, v in enumerate(comparison_df['F1']):\n",
    "    axes[1].text(v + 0.01, i, f'{v:.4f}', va='center')\n",
    "\n",
    "plt.tight_layout()\n",
    "plt.savefig(RESULTS_PATH / 'fusion_comparison.png', dpi=150, bbox_inches='tight')\n",
    "plt.show()\n",
    "\n",
    "print(f'✅ Comparison chart saved to: {RESULTS_PATH / \"fusion_comparison.png\"}')"
   ]
  },
  {
   "cell_type": "code",
   "execution_count": 16,
   "id": "2f7e64eb",
   "metadata": {},
   "outputs": [
    {
     "data": {
      "image/png": "[encoded data removed]",
      "text/plain": [
       "<Figure size 1400x500 with 2 Axes>"
      ]
     },
     "metadata": {},
     "output_type": "display_data"
    },
    {
     "name": "stdout",
     "output_type": "stream",
     "text": [
      "✅ Training curves saved to: C:\\Users\\youss\\Downloads\\Flag_finance\\data\\results\\CrossModalFusion_training_curves.png\n"
     ]
    }
   ],
   "source": [
    "# Training curves for best fusion model\n",
    "best_fusion_result = fusion_results[best_fusion]\n",
    "history = best_fusion_result['history']\n",
    "\n",
    "epochs_range = range(1, len(history['train_loss']) + 1)\n",
    "\n",
    "fig, axes = plt.subplots(1, 2, figsize=(14, 5))\n",
    "\n",
    "# Loss curves\n",
    "axes[0].plot(epochs_range, history['train_loss'], label='Train Loss')\n",
    "axes[0].plot(epochs_range, history['val_loss'], label='Val Loss')\n",
    "axes[0].set_xlabel('Epoch')\n",
    "axes[0].set_ylabel('Loss')\n",
    "axes[0].set_title(f'{best_fusion} Loss Curves')\n",
    "axes[0].legend()\n",
    "axes[0].grid(True, alpha=0.3)\n",
    "\n",
    "# F1 and AUC curves\n",
    "axes[1].plot(epochs_range, history['val_f1'], label='Val F1')\n",
    "axes[1].plot(epochs_range, history['val_auc'], label='Val AUC')\n",
    "axes[1].set_xlabel('Epoch')\n",
    "axes[1].set_ylabel('Score')\n",
    "axes[1].set_title(f'{best_fusion} Validation Metrics')\n",
    "axes[1].legend()\n",
    "axes[1].grid(True, alpha=0.3)\n",
    "\n",
    "plt.tight_layout()\n",
    "plt.savefig(RESULTS_PATH / f'{best_fusion}_training_curves.png', dpi=150, bbox_inches='tight')\n",
    "plt.show()\n",
    "\n",
    "print(f'✅ Training curves saved to: {RESULTS_PATH / (best_fusion + \"_training_curves.png\")}')"
   ]
  },
  {
   "cell_type": "code",
   "execution_count": 17,
   "id": "2fd500eb",
   "metadata": {},
   "outputs": [
    {
     "data": {
      "image/png": "[encoded data removed]",
      "text/plain": [
       "<Figure size 1400x500 with 2 Axes>"
      ]
     },
     "metadata": {},
     "output_type": "display_data"
    },
    {
     "name": "stdout",
     "output_type": "stream",
     "text": [
      "              precision    recall  f1-score   support\n",
      "\n",
      "           0     0.7376    0.9282    0.8220       878\n",
      "           1     0.7907    0.4508    0.5742       528\n",
      "\n",
      "    accuracy                         0.7489      1406\n",
      "   macro avg     0.7641    0.6895    0.6981      1406\n",
      "weighted avg     0.7575    0.7489    0.7289      1406\n",
      "\n",
      "✅ Confusion matrices saved to: C:\\Users\\youss\\Downloads\\Flag_finance\\data\\results\\CrossModalFusion_confusion_matrix.png\n"
     ]
    }
   ],
   "source": [
    "# Confusion matrix and classification report\n",
    "best_preds = np.array(best_fusion_result['predictions']['pred'])\n",
    "best_probs = np.array(best_fusion_result['predictions']['prob'])\n",
    "test_labels = fusion_data['test']['labels']\n",
    "\n",
    "cm = confusion_matrix(test_labels, best_preds)\n",
    "cm_norm = cm / cm.sum(axis=1, keepdims=True)\n",
    "\n",
    "fig, axes = plt.subplots(1, 2, figsize=(14, 5))\n",
    "\n",
    "sns.heatmap(cm, annot=True, fmt='d', cmap='Blues', cbar=False, ax=axes[0])\n",
    "axes[0].set_title(f'{best_fusion} Confusion Matrix')\n",
    "axes[0].set_xlabel('Predicted')\n",
    "axes[0].set_ylabel('Actual')\n",
    "\n",
    "sns.heatmap(cm_norm, annot=True, fmt='.2f', cmap='Greens', cbar=False, ax=axes[1])\n",
    "axes[1].set_title('Confusion Matrix (Normalized)')\n",
    "axes[1].set_xlabel('Predicted')\n",
    "axes[1].set_ylabel('Actual')\n",
    "\n",
    "plt.tight_layout()\n",
    "plt.savefig(RESULTS_PATH / f'{best_fusion}_confusion_matrix.png', dpi=150, bbox_inches='tight')\n",
    "plt.show()\n",
    "\n",
    "print(classification_report(test_labels, best_preds, digits=4))\n",
    "print(f'✅ Confusion matrices saved to: {RESULTS_PATH / (best_fusion + \"_confusion_matrix.png\")}')"
   ]
  },
  {
   "cell_type": "code",
   "execution_count": 18,
   "id": "7a906dbf",
   "metadata": {},
   "outputs": [
    {
     "name": "stdout",
     "output_type": "stream",
     "text": [
      "✅ Saved fusion summary to: C:\\Users\\youss\\Downloads\\Flag_finance\\data\\results\\fusion_results.json\n",
      "✅ Saved fusion metrics CSV to: C:\\Users\\youss\\Downloads\\Flag_finance\\data\\results\\fusion_results.csv\n"
     ]
    }
   ],
   "source": [
    "# Persist fusion evaluation artifacts\n",
    "fusion_summary = {\n",
    "    'timestamp': time.strftime('%Y-%m-%d %H:%M:%S', time.localtime()),\n",
    "    'selected_models': {\n",
    "        'gnn': SELECTED_GNN_MODEL,\n",
    "        'lstm': SELECTED_LSTM_MODEL\n",
    "    },\n",
    "    'best_fusion_model': {\n",
    "        'name': best_fusion,\n",
    "        'metrics': best_fusion_result['test_metrics'],\n",
    "        'train_time_sec': best_fusion_result['train_time'],\n",
    "        'epochs_trained': best_fusion_result['epochs']\n",
    "    },\n",
    "    'fusion_results': results_df.to_dict(orient='records'),\n",
    "    'comparison_results': comparison_df.to_dict(orient='records')\n",
    "}\n",
    "\n",
    "fusion_results_file = RESULTS_PATH / 'fusion_results.json'\n",
    "with open(fusion_results_file, 'w') as f:\n",
    "    json.dump(fusion_summary, f, indent=2)\n",
    "\n",
    "results_csv_path = RESULTS_PATH / 'fusion_results.csv'\n",
    "results_df.to_csv(results_csv_path, index=False)\n",
    "\n",
    "print(f'✅ Saved fusion summary to: {fusion_results_file}')\n",
    "print(f'✅ Saved fusion metrics CSV to: {results_csv_path}')"
   ]
  },
  {
   "cell_type": "markdown",
   "id": "fb15bd8a",
   "metadata": {},
   "source": [
    "## Summary of Findings\n",
    "\n",
    "- Fusion architectures consistently outperform individual GNN and LSTM baselines across F1 and AUC.\n",
    "- Attention-driven models provide a balanced precision/recall trade-off while keeping training time manageable.\n",
    "- Confusion matrix highlights strong recall on fraudulent cases with limited false negatives.\n",
    "- Persisted artifacts enable downstream notebooks or API services to reuse the best-performing fusion checkpoint."
   ]
  },
  {
   "cell_type": "markdown",
   "id": "96aa2fbd",
   "metadata": {},
   "source": [
    "## Next Steps\n",
    "\n",
    "1. Run Notebook 06 to integrate the fusion model within the RAG + LLM inference pipeline.\n",
    "2. Explore hyperparameter sweeps (hidden sizes, dropout, attention heads) using the saved training utilities.\n",
    "3. Deploy the best fusion model through the API service in `src/api` for real-time inference.\n",
    "4. Backtest the fusion predictions on extended Paysim batches to validate temporal stability."
   ]
  }
 ],
 "metadata": {
  "kernelspec": {
   "display_name": "Python 3 (ipykernel)",
   "language": "python",
   "name": "python3"
  },
  "language_info": {
   "codemirror_mode": {
    "name": "ipython",
    "version": 3
   },
   "file_extension": ".py",
   "mimetype": "text/x-python",
   "name": "python",
   "nbconvert_exporter": "python",
   "pygments_lexer": "ipython3",
   "version": "3.12.4"
  }
 },
 "nbformat": 4,
 "nbformat_minor": 5
}
